{
 "cells": [
  {
   "cell_type": "markdown",
   "source": [
    "# Part 2 - Exploratory Data Analytics\n",
    "\n",
    "Using the output from Part 1. \n",
    "\n",
    "The goal of this workbook is to explore the dataset and find answers to the below:\n",
    "\n",
    "1. Average number of accidents by month by borough\n",
    "2. What are the most dangerous hours of the day for pedestrians?\n",
    "3. Year with most accidents?\n",
    "4. Visualize data\n",
    "5. Any other insights we find, data quality\n",
    "\n",
    "I have also created a Tableau workbook to visualize the data. I use Tableau to plot the geolocation information, which also makes it handy to see if there are DQ issues with the data as-is. An alternative solution would be to download ShapeFiles from NYC OpenData and to plot the latitude and longitude coordinates using the `shapefile` library in python. The link to Tableau Workbook can be found [Tableau Online Dashboard - NYC OpenData](https://public.tableau.com/app/profile/jordan.carson/viz/NYCOpenData/NYCOpenData?publish=yes)."
   ],
   "metadata": {}
  },
  {
   "cell_type": "code",
   "execution_count": 70,
   "source": [
    "import os\n",
    "import sys\n",
    "import pickle\n",
    "from pathlib import Path\n",
    "CWD = str(Path.cwd().parent)\n",
    "sys.path.append(CWD)\n",
    "from datetime import datetime, timedelta\n",
    "import numpy as np\n",
    "import pandas as pd\n",
    "import datatable as dt\n",
    "from datatable import f, by\n",
    "from common.utilities import decorators \n",
    "%matplotlib inline\n",
    "import matplotlib.pyplot as plt\n",
    "plt.style.use('fivethirtyeight')\n",
    "print(CWD)"
   ],
   "outputs": [
    {
     "output_type": "stream",
     "name": "stdout",
     "text": [
      "/Users/jordancarson/Projects/JPM/data-engineering-nyc\n"
     ]
    }
   ],
   "metadata": {}
  },
  {
   "cell_type": "markdown",
   "source": [
    "We are going to be using both `pandas` for our EDA (exploratory data analysis). The below data has not been transformed from source and is in the same shape and size as the entire NYC OpenData MVCC table. We have parameters within pd.read_csv that will us to transform while reading."
   ],
   "metadata": {}
  },
  {
   "cell_type": "code",
   "execution_count": 2,
   "source": [
    "collision_df = pd.read_csv(\n",
    "    os.path.join(CWD, '.data', 'output.csv'),\n",
    "    # parse_dates={'crash_date_time': [\"crash_date\", \"crash_time\"]},\n",
    "    # infer_datetime_format=True,\n",
    "    dtype={'zip_code': \"str\"}\n",
    ")"
   ],
   "outputs": [],
   "metadata": {}
  },
  {
   "cell_type": "code",
   "execution_count": 3,
   "source": [
    "collision_df.shape"
   ],
   "outputs": [
    {
     "output_type": "execute_result",
     "data": {
      "text/plain": [
       "(1830092, 30)"
      ]
     },
     "metadata": {},
     "execution_count": 3
    }
   ],
   "metadata": {}
  },
  {
   "cell_type": "markdown",
   "source": [
    "We have 1,830,092 rows, with 29 columns. A [data dictionary](https://data.cityofnewyork.us/api/views/h9gi-nx95/files/bd7ab0b2-d48c-48c4-a0a5-590d31a3e120?download=true&filename=MVCollisionsDataDictionary_20190813_ERD.xlsx) is available which shows the metadata and table relationship between the Motor Vehicle - Crashes, Vehicles and Persons."
   ],
   "metadata": {}
  },
  {
   "cell_type": "code",
   "execution_count": 4,
   "source": [
    "collision_table = dt.Frame(collision_df)"
   ],
   "outputs": [],
   "metadata": {}
  },
  {
   "cell_type": "code",
   "execution_count": 51,
   "source": [
    "collision_df.head(5)"
   ],
   "outputs": [
    {
     "output_type": "execute_result",
     "data": {
      "text/html": [
       "<div>\n",
       "<style scoped>\n",
       "    .dataframe tbody tr th:only-of-type {\n",
       "        vertical-align: middle;\n",
       "    }\n",
       "\n",
       "    .dataframe tbody tr th {\n",
       "        vertical-align: top;\n",
       "    }\n",
       "\n",
       "    .dataframe thead th {\n",
       "        text-align: right;\n",
       "    }\n",
       "</style>\n",
       "<table border=\"1\" class=\"dataframe\">\n",
       "  <thead>\n",
       "    <tr style=\"text-align: right;\">\n",
       "      <th></th>\n",
       "      <th>Unnamed: 0</th>\n",
       "      <th>crash_date</th>\n",
       "      <th>crash_time</th>\n",
       "      <th>borough</th>\n",
       "      <th>zip_code</th>\n",
       "      <th>latitude</th>\n",
       "      <th>longitude</th>\n",
       "      <th>location</th>\n",
       "      <th>on_street_name</th>\n",
       "      <th>off_street_name</th>\n",
       "      <th>...</th>\n",
       "      <th>collision_id</th>\n",
       "      <th>vehicle_type_code1</th>\n",
       "      <th>vehicle_type_code2</th>\n",
       "      <th>contributing_factor_vehicle_3</th>\n",
       "      <th>vehicle_type_code_3</th>\n",
       "      <th>cross_street_name</th>\n",
       "      <th>contributing_factor_vehicle_4</th>\n",
       "      <th>contributing_factor_vehicle_5</th>\n",
       "      <th>vehicle_type_code_4</th>\n",
       "      <th>vehicle_type_code_5</th>\n",
       "    </tr>\n",
       "  </thead>\n",
       "  <tbody>\n",
       "    <tr>\n",
       "      <th>0</th>\n",
       "      <td>0</td>\n",
       "      <td>2012-07-01T00:00:00.000</td>\n",
       "      <td>2021-10-15 10:40:00</td>\n",
       "      <td>MANHATTAN</td>\n",
       "      <td>10013.0</td>\n",
       "      <td>40.720854</td>\n",
       "      <td>-74.003929</td>\n",
       "      <td>{'latitude': '40.7208537', 'longitude': '-74.0...</td>\n",
       "      <td>CANAL STREET</td>\n",
       "      <td>WOOSTER STREET</td>\n",
       "      <td>...</td>\n",
       "      <td>22</td>\n",
       "      <td>SPORT UTILITY / STATION WAGON</td>\n",
       "      <td>VAN</td>\n",
       "      <td>NaN</td>\n",
       "      <td>NaN</td>\n",
       "      <td>NaN</td>\n",
       "      <td>NaN</td>\n",
       "      <td>NaN</td>\n",
       "      <td>NaN</td>\n",
       "      <td>NaN</td>\n",
       "    </tr>\n",
       "    <tr>\n",
       "      <th>1</th>\n",
       "      <td>1</td>\n",
       "      <td>2012-07-01T00:00:00.000</td>\n",
       "      <td>2021-10-15 12:18:00</td>\n",
       "      <td>MANHATTAN</td>\n",
       "      <td>10004.0</td>\n",
       "      <td>40.704799</td>\n",
       "      <td>-74.016685</td>\n",
       "      <td>{'latitude': '40.7047985', 'longitude': '-74.0...</td>\n",
       "      <td>BATTERY PLACE</td>\n",
       "      <td>WEST STREET</td>\n",
       "      <td>...</td>\n",
       "      <td>23</td>\n",
       "      <td>TAXI</td>\n",
       "      <td>TAXI</td>\n",
       "      <td>NaN</td>\n",
       "      <td>NaN</td>\n",
       "      <td>NaN</td>\n",
       "      <td>NaN</td>\n",
       "      <td>NaN</td>\n",
       "      <td>NaN</td>\n",
       "      <td>NaN</td>\n",
       "    </tr>\n",
       "    <tr>\n",
       "      <th>2</th>\n",
       "      <td>2</td>\n",
       "      <td>2012-07-01T00:00:00.000</td>\n",
       "      <td>2021-10-15 15:00:00</td>\n",
       "      <td>NaN</td>\n",
       "      <td>NaN</td>\n",
       "      <td>NaN</td>\n",
       "      <td>NaN</td>\n",
       "      <td>NaN</td>\n",
       "      <td>WATER STREET</td>\n",
       "      <td>OLD SLIP</td>\n",
       "      <td>...</td>\n",
       "      <td>24</td>\n",
       "      <td>BUS</td>\n",
       "      <td>PASSENGER VEHICLE</td>\n",
       "      <td>NaN</td>\n",
       "      <td>NaN</td>\n",
       "      <td>NaN</td>\n",
       "      <td>NaN</td>\n",
       "      <td>NaN</td>\n",
       "      <td>NaN</td>\n",
       "      <td>NaN</td>\n",
       "    </tr>\n",
       "    <tr>\n",
       "      <th>3</th>\n",
       "      <td>3</td>\n",
       "      <td>2012-07-01T00:00:00.000</td>\n",
       "      <td>2021-10-15 18:00:00</td>\n",
       "      <td>MANHATTAN</td>\n",
       "      <td>10007.0</td>\n",
       "      <td>40.713692</td>\n",
       "      <td>-74.013754</td>\n",
       "      <td>{'latitude': '40.7136919', 'longitude': '-74.0...</td>\n",
       "      <td>WEST STREET</td>\n",
       "      <td>VESEY STREET</td>\n",
       "      <td>...</td>\n",
       "      <td>25</td>\n",
       "      <td>PASSENGER VEHICLE</td>\n",
       "      <td>PASSENGER VEHICLE</td>\n",
       "      <td>NaN</td>\n",
       "      <td>NaN</td>\n",
       "      <td>NaN</td>\n",
       "      <td>NaN</td>\n",
       "      <td>NaN</td>\n",
       "      <td>NaN</td>\n",
       "      <td>NaN</td>\n",
       "    </tr>\n",
       "    <tr>\n",
       "      <th>4</th>\n",
       "      <td>4</td>\n",
       "      <td>2012-07-01T00:00:00.000</td>\n",
       "      <td>2021-10-15 19:30:00</td>\n",
       "      <td>MANHATTAN</td>\n",
       "      <td>10013.0</td>\n",
       "      <td>40.719058</td>\n",
       "      <td>-74.012442</td>\n",
       "      <td>{'latitude': '40.719058', 'longitude': '-74.01...</td>\n",
       "      <td>WEST STREET</td>\n",
       "      <td>HARRISON STREET</td>\n",
       "      <td>...</td>\n",
       "      <td>26</td>\n",
       "      <td>PASSENGER VEHICLE</td>\n",
       "      <td>PASSENGER VEHICLE</td>\n",
       "      <td>NaN</td>\n",
       "      <td>NaN</td>\n",
       "      <td>NaN</td>\n",
       "      <td>NaN</td>\n",
       "      <td>NaN</td>\n",
       "      <td>NaN</td>\n",
       "      <td>NaN</td>\n",
       "    </tr>\n",
       "  </tbody>\n",
       "</table>\n",
       "<p>5 rows × 30 columns</p>\n",
       "</div>"
      ],
      "text/plain": [
       "   Unnamed: 0               crash_date           crash_time    borough  \\\n",
       "0           0  2012-07-01T00:00:00.000  2021-10-15 10:40:00  MANHATTAN   \n",
       "1           1  2012-07-01T00:00:00.000  2021-10-15 12:18:00  MANHATTAN   \n",
       "2           2  2012-07-01T00:00:00.000  2021-10-15 15:00:00        NaN   \n",
       "3           3  2012-07-01T00:00:00.000  2021-10-15 18:00:00  MANHATTAN   \n",
       "4           4  2012-07-01T00:00:00.000  2021-10-15 19:30:00  MANHATTAN   \n",
       "\n",
       "  zip_code   latitude  longitude  \\\n",
       "0  10013.0  40.720854 -74.003929   \n",
       "1  10004.0  40.704799 -74.016685   \n",
       "2      NaN        NaN        NaN   \n",
       "3  10007.0  40.713692 -74.013754   \n",
       "4  10013.0  40.719058 -74.012442   \n",
       "\n",
       "                                            location  \\\n",
       "0  {'latitude': '40.7208537', 'longitude': '-74.0...   \n",
       "1  {'latitude': '40.7047985', 'longitude': '-74.0...   \n",
       "2                                                NaN   \n",
       "3  {'latitude': '40.7136919', 'longitude': '-74.0...   \n",
       "4  {'latitude': '40.719058', 'longitude': '-74.01...   \n",
       "\n",
       "                     on_street_name                   off_street_name  ...  \\\n",
       "0  CANAL STREET                      WOOSTER STREET                    ...   \n",
       "1  BATTERY PLACE                     WEST STREET                       ...   \n",
       "2  WATER STREET                      OLD SLIP                          ...   \n",
       "3  WEST STREET                       VESEY STREET                      ...   \n",
       "4  WEST STREET                       HARRISON STREET                   ...   \n",
       "\n",
       "   collision_id             vehicle_type_code1  vehicle_type_code2  \\\n",
       "0            22  SPORT UTILITY / STATION WAGON                 VAN   \n",
       "1            23                           TAXI                TAXI   \n",
       "2            24                            BUS   PASSENGER VEHICLE   \n",
       "3            25              PASSENGER VEHICLE   PASSENGER VEHICLE   \n",
       "4            26              PASSENGER VEHICLE   PASSENGER VEHICLE   \n",
       "\n",
       "   contributing_factor_vehicle_3  vehicle_type_code_3  cross_street_name  \\\n",
       "0                            NaN                  NaN                NaN   \n",
       "1                            NaN                  NaN                NaN   \n",
       "2                            NaN                  NaN                NaN   \n",
       "3                            NaN                  NaN                NaN   \n",
       "4                            NaN                  NaN                NaN   \n",
       "\n",
       "   contributing_factor_vehicle_4  contributing_factor_vehicle_5  \\\n",
       "0                            NaN                            NaN   \n",
       "1                            NaN                            NaN   \n",
       "2                            NaN                            NaN   \n",
       "3                            NaN                            NaN   \n",
       "4                            NaN                            NaN   \n",
       "\n",
       "  vehicle_type_code_4 vehicle_type_code_5  \n",
       "0                 NaN                 NaN  \n",
       "1                 NaN                 NaN  \n",
       "2                 NaN                 NaN  \n",
       "3                 NaN                 NaN  \n",
       "4                 NaN                 NaN  \n",
       "\n",
       "[5 rows x 30 columns]"
      ]
     },
     "metadata": {},
     "execution_count": 51
    }
   ],
   "metadata": {}
  },
  {
   "cell_type": "code",
   "execution_count": 34,
   "source": [
    "collision_df['crash_date'].min(), collision_df['crash_date'].max()"
   ],
   "outputs": [
    {
     "output_type": "execute_result",
     "data": {
      "text/plain": [
       "(Timestamp('2012-07-01 00:00:00'), Timestamp('2021-10-11 00:00:00'))"
      ]
     },
     "metadata": {},
     "execution_count": 34
    }
   ],
   "metadata": {}
  },
  {
   "cell_type": "markdown",
   "source": [
    "The Collision Data **begins** on ***July 1st 2012*** and series **ends** on ***October 11th 2021***. "
   ],
   "metadata": {}
  },
  {
   "cell_type": "markdown",
   "source": [
    "## Adding Features\n",
    "\n",
    "If we want to find the answers to some of Michael's questions we first need to include additional features in our result-set. Creating time specific fields, to pivot by later."
   ],
   "metadata": {}
  },
  {
   "cell_type": "code",
   "execution_count": 52,
   "source": [
    "collision_df['crash_date'] = pd.to_datetime(collision_df['crash_date'], format=\"%Y-%m-%d\")\n",
    "collision_df['crash_time'] = collision_df['crash_time'].str[11:] # slicing to get only the time value back\n",
    "collision_df['year'] = collision_df['crash_date'].dt.year\n",
    "collision_df['month'] = collision_df['crash_date'].dt.month\n",
    "collision_df['day'] = collision_df['crash_date'].dt.day\n",
    "collision_df['hour'] = collision_df['crash_time'].str[:2]\n",
    "collision_df['minutes'] = collision_df['crash_time'].str[3:5]\n",
    "collision_df['seconds'] = collision_df['crash_time'].str[6:]\n",
    "collision_df['incidents'] = 1"
   ],
   "outputs": [],
   "metadata": {}
  },
  {
   "cell_type": "code",
   "execution_count": 6,
   "source": [
    "# what columns are available\n",
    "collision_df.columns"
   ],
   "outputs": [
    {
     "output_type": "execute_result",
     "data": {
      "text/plain": [
       "Index(['Unnamed: 0', 'crash_date', 'crash_time', 'borough', 'zip_code',\n",
       "       'latitude', 'longitude', 'location', 'on_street_name',\n",
       "       'off_street_name', 'number_of_persons_injured',\n",
       "       'number_of_persons_killed', 'number_of_pedestrians_injured',\n",
       "       'number_of_pedestrians_killed', 'number_of_cyclist_injured',\n",
       "       'number_of_cyclist_killed', 'number_of_motorist_injured',\n",
       "       'number_of_motorist_killed', 'contributing_factor_vehicle_1',\n",
       "       'contributing_factor_vehicle_2', 'collision_id', 'vehicle_type_code1',\n",
       "       'vehicle_type_code2', 'contributing_factor_vehicle_3',\n",
       "       'vehicle_type_code_3', 'cross_street_name',\n",
       "       'contributing_factor_vehicle_4', 'contributing_factor_vehicle_5',\n",
       "       'vehicle_type_code_4', 'vehicle_type_code_5', 'year', 'month', 'day',\n",
       "       'hour', 'minutes', 'seconds', 'number'],\n",
       "      dtype='object')"
      ]
     },
     "metadata": {},
     "execution_count": 6
    }
   ],
   "metadata": {}
  },
  {
   "cell_type": "code",
   "execution_count": 7,
   "source": [
    "# Next find missing data\n",
    "print(collision_df.shape[0] - collision_df.count())"
   ],
   "outputs": [
    {
     "output_type": "stream",
     "name": "stdout",
     "text": [
      "Unnamed: 0                             0\n",
      "crash_date                             0\n",
      "crash_time                             0\n",
      "borough                           564983\n",
      "zip_code                          565203\n",
      "latitude                          214300\n",
      "longitude                         214300\n",
      "location                          214300\n",
      "on_street_name                    373516\n",
      "off_street_name                   656307\n",
      "number_of_persons_injured             18\n",
      "number_of_persons_killed              31\n",
      "number_of_pedestrians_injured          0\n",
      "number_of_pedestrians_killed           0\n",
      "number_of_cyclist_injured              0\n",
      "number_of_cyclist_killed               0\n",
      "number_of_motorist_injured             0\n",
      "number_of_motorist_killed              0\n",
      "contributing_factor_vehicle_1       5247\n",
      "contributing_factor_vehicle_2     264256\n",
      "collision_id                           0\n",
      "vehicle_type_code1                  9986\n",
      "vehicle_type_code2                313450\n",
      "contributing_factor_vehicle_3    1705024\n",
      "vehicle_type_code_3              1708718\n",
      "cross_street_name                1548945\n",
      "contributing_factor_vehicle_4    1802791\n",
      "contributing_factor_vehicle_5    1822866\n",
      "vehicle_type_code_4              1803601\n",
      "vehicle_type_code_5              1823064\n",
      "year                                   0\n",
      "month                                  0\n",
      "day                                    0\n",
      "hour                                   0\n",
      "minutes                                0\n",
      "seconds                                0\n",
      "number                                 0\n",
      "dtype: int64\n"
     ]
    }
   ],
   "metadata": {}
  },
  {
   "cell_type": "markdown",
   "source": [
    "Some fields do have many missing value. Date and time is always populated. There are 565,203 cases with no zip_code and 564,983 with no borough. Latitude and Longitude data has about 214,300 missing entries. Along with the location - location is a tuple of the lat/long data. We should be able to infer the zip-code and borough from the geolocation fields and or from additional sources.\n",
    "\n",
    "From the dataset we can ask the following questions. \n",
    "\n",
    "1. Which borough has the most collisions?\n",
    "2. What is the biggest reason?\n",
    "3. Is there a particular zip code that has more collisions than others?"
   ],
   "metadata": {}
  },
  {
   "cell_type": "code",
   "execution_count": 21,
   "source": [
    "# Which borough has the most collisions?\n",
    "(collision_df\n",
    "    .groupby('borough')\n",
    "    .agg({'collision_id': len})\n",
    "    .sort_values(by='collision_id', ascending=False)\n",
    ")"
   ],
   "outputs": [
    {
     "output_type": "execute_result",
     "data": {
      "text/html": [
       "<div>\n",
       "<style scoped>\n",
       "    .dataframe tbody tr th:only-of-type {\n",
       "        vertical-align: middle;\n",
       "    }\n",
       "\n",
       "    .dataframe tbody tr th {\n",
       "        vertical-align: top;\n",
       "    }\n",
       "\n",
       "    .dataframe thead th {\n",
       "        text-align: right;\n",
       "    }\n",
       "</style>\n",
       "<table border=\"1\" class=\"dataframe\">\n",
       "  <thead>\n",
       "    <tr style=\"text-align: right;\">\n",
       "      <th></th>\n",
       "      <th>collision_id</th>\n",
       "    </tr>\n",
       "    <tr>\n",
       "      <th>borough</th>\n",
       "      <th></th>\n",
       "    </tr>\n",
       "  </thead>\n",
       "  <tbody>\n",
       "    <tr>\n",
       "      <th>BROOKLYN</th>\n",
       "      <td>398169</td>\n",
       "    </tr>\n",
       "    <tr>\n",
       "      <th>QUEENS</th>\n",
       "      <td>338807</td>\n",
       "    </tr>\n",
       "    <tr>\n",
       "      <th>MANHATTAN</th>\n",
       "      <td>291402</td>\n",
       "    </tr>\n",
       "    <tr>\n",
       "      <th>BRONX</th>\n",
       "      <td>183406</td>\n",
       "    </tr>\n",
       "    <tr>\n",
       "      <th>STATEN ISLAND</th>\n",
       "      <td>53325</td>\n",
       "    </tr>\n",
       "  </tbody>\n",
       "</table>\n",
       "</div>"
      ],
      "text/plain": [
       "               collision_id\n",
       "borough                    \n",
       "BROOKLYN             398169\n",
       "QUEENS               338807\n",
       "MANHATTAN            291402\n",
       "BRONX                183406\n",
       "STATEN ISLAND         53325"
      ]
     },
     "metadata": {},
     "execution_count": 21
    }
   ],
   "metadata": {}
  },
  {
   "cell_type": "markdown",
   "source": [
    "Most accidents and collisions occur in Brooklyn and Queens. What are the biggest reasons for collisions in Brooklyn and Queens?"
   ],
   "metadata": {}
  },
  {
   "cell_type": "code",
   "execution_count": 30,
   "source": [
    "# What is the biggest reason for collisions?\n",
    "(collision_df[collision_df['borough'].isin(['BROOKLYN', 'QUEENS'])]\n",
    "    .groupby('contributing_factor_vehicle_1')\n",
    "    .agg({'collision_id': len})\n",
    "    .sort_values(by='collision_id', ascending=False)\n",
    "    .head(15)\n",
    ")"
   ],
   "outputs": [
    {
     "output_type": "execute_result",
     "data": {
      "text/html": [
       "<div>\n",
       "<style scoped>\n",
       "    .dataframe tbody tr th:only-of-type {\n",
       "        vertical-align: middle;\n",
       "    }\n",
       "\n",
       "    .dataframe tbody tr th {\n",
       "        vertical-align: top;\n",
       "    }\n",
       "\n",
       "    .dataframe thead th {\n",
       "        text-align: right;\n",
       "    }\n",
       "</style>\n",
       "<table border=\"1\" class=\"dataframe\">\n",
       "  <thead>\n",
       "    <tr style=\"text-align: right;\">\n",
       "      <th></th>\n",
       "      <th>collision_id</th>\n",
       "    </tr>\n",
       "    <tr>\n",
       "      <th>contributing_factor_vehicle_1</th>\n",
       "      <th></th>\n",
       "    </tr>\n",
       "  </thead>\n",
       "  <tbody>\n",
       "    <tr>\n",
       "      <th>Unspecified</th>\n",
       "      <td>297863</td>\n",
       "    </tr>\n",
       "    <tr>\n",
       "      <th>Driver Inattention/Distraction</th>\n",
       "      <td>135604</td>\n",
       "    </tr>\n",
       "    <tr>\n",
       "      <th>Failure to Yield Right-of-Way</th>\n",
       "      <td>53638</td>\n",
       "    </tr>\n",
       "    <tr>\n",
       "      <th>Backing Unsafely</th>\n",
       "      <td>33358</td>\n",
       "    </tr>\n",
       "    <tr>\n",
       "      <th>Following Too Closely</th>\n",
       "      <td>24053</td>\n",
       "    </tr>\n",
       "    <tr>\n",
       "      <th>Passing Too Closely</th>\n",
       "      <td>17878</td>\n",
       "    </tr>\n",
       "    <tr>\n",
       "      <th>Passing or Lane Usage Improper</th>\n",
       "      <td>16585</td>\n",
       "    </tr>\n",
       "    <tr>\n",
       "      <th>Other Vehicular</th>\n",
       "      <td>14369</td>\n",
       "    </tr>\n",
       "    <tr>\n",
       "      <th>Turning Improperly</th>\n",
       "      <td>14085</td>\n",
       "    </tr>\n",
       "    <tr>\n",
       "      <th>Fatigued/Drowsy</th>\n",
       "      <td>13883</td>\n",
       "    </tr>\n",
       "    <tr>\n",
       "      <th>Traffic Control Disregarded</th>\n",
       "      <td>13253</td>\n",
       "    </tr>\n",
       "    <tr>\n",
       "      <th>Driver Inexperience</th>\n",
       "      <td>10490</td>\n",
       "    </tr>\n",
       "    <tr>\n",
       "      <th>Alcohol Involvement</th>\n",
       "      <td>7986</td>\n",
       "    </tr>\n",
       "    <tr>\n",
       "      <th>Lost Consciousness</th>\n",
       "      <td>7909</td>\n",
       "    </tr>\n",
       "    <tr>\n",
       "      <th>Unsafe Speed</th>\n",
       "      <td>6906</td>\n",
       "    </tr>\n",
       "  </tbody>\n",
       "</table>\n",
       "</div>"
      ],
      "text/plain": [
       "                                collision_id\n",
       "contributing_factor_vehicle_1               \n",
       "Unspecified                           297863\n",
       "Driver Inattention/Distraction        135604\n",
       "Failure to Yield Right-of-Way          53638\n",
       "Backing Unsafely                       33358\n",
       "Following Too Closely                  24053\n",
       "Passing Too Closely                    17878\n",
       "Passing or Lane Usage Improper         16585\n",
       "Other Vehicular                        14369\n",
       "Turning Improperly                     14085\n",
       "Fatigued/Drowsy                        13883\n",
       "Traffic Control Disregarded            13253\n",
       "Driver Inexperience                    10490\n",
       "Alcohol Involvement                     7986\n",
       "Lost Consciousness                      7909\n",
       "Unsafe Speed                            6906"
      ]
     },
     "metadata": {},
     "execution_count": 30
    }
   ],
   "metadata": {}
  },
  {
   "cell_type": "markdown",
   "source": [
    "Most of the collisions are unspecified. In fact, this is the largest factor across all boroughs. See below."
   ],
   "metadata": {}
  },
  {
   "cell_type": "code",
   "execution_count": 32,
   "source": [
    "# What is the biggest reason for collisions?\n",
    "(collision_df\n",
    "    .groupby('contributing_factor_vehicle_1')\n",
    "    .agg({'collision_id': len})\n",
    "    .sort_values(by='collision_id', ascending=False)\n",
    "    .head(5)\n",
    ")"
   ],
   "outputs": [
    {
     "output_type": "execute_result",
     "data": {
      "text/html": [
       "<div>\n",
       "<style scoped>\n",
       "    .dataframe tbody tr th:only-of-type {\n",
       "        vertical-align: middle;\n",
       "    }\n",
       "\n",
       "    .dataframe tbody tr th {\n",
       "        vertical-align: top;\n",
       "    }\n",
       "\n",
       "    .dataframe thead th {\n",
       "        text-align: right;\n",
       "    }\n",
       "</style>\n",
       "<table border=\"1\" class=\"dataframe\">\n",
       "  <thead>\n",
       "    <tr style=\"text-align: right;\">\n",
       "      <th></th>\n",
       "      <th>collision_id</th>\n",
       "    </tr>\n",
       "    <tr>\n",
       "      <th>contributing_factor_vehicle_1</th>\n",
       "      <th></th>\n",
       "    </tr>\n",
       "  </thead>\n",
       "  <tbody>\n",
       "    <tr>\n",
       "      <th>Unspecified</th>\n",
       "      <td>647943</td>\n",
       "    </tr>\n",
       "    <tr>\n",
       "      <th>Driver Inattention/Distraction</th>\n",
       "      <td>354540</td>\n",
       "    </tr>\n",
       "    <tr>\n",
       "      <th>Failure to Yield Right-of-Way</th>\n",
       "      <td>105892</td>\n",
       "    </tr>\n",
       "    <tr>\n",
       "      <th>Following Too Closely</th>\n",
       "      <td>95262</td>\n",
       "    </tr>\n",
       "    <tr>\n",
       "      <th>Backing Unsafely</th>\n",
       "      <td>69258</td>\n",
       "    </tr>\n",
       "  </tbody>\n",
       "</table>\n",
       "</div>"
      ],
      "text/plain": [
       "                                collision_id\n",
       "contributing_factor_vehicle_1               \n",
       "Unspecified                           647943\n",
       "Driver Inattention/Distraction        354540\n",
       "Failure to Yield Right-of-Way         105892\n",
       "Following Too Closely                  95262\n",
       "Backing Unsafely                       69258"
      ]
     },
     "metadata": {},
     "execution_count": 32
    }
   ],
   "metadata": {}
  },
  {
   "cell_type": "code",
   "execution_count": 158,
   "source": [
    "# Which zipcodes have the largest collisions?\n",
    "(collision_df\n",
    "    .groupby('zip_code')\n",
    "    .agg({'collision_id': len})\n",
    "    .sort_values(by='collision_id', ascending=False)\n",
    "    .head(5)\n",
    ")"
   ],
   "outputs": [
    {
     "output_type": "execute_result",
     "data": {
      "text/html": [
       "<div>\n",
       "<style scoped>\n",
       "    .dataframe tbody tr th:only-of-type {\n",
       "        vertical-align: middle;\n",
       "    }\n",
       "\n",
       "    .dataframe tbody tr th {\n",
       "        vertical-align: top;\n",
       "    }\n",
       "\n",
       "    .dataframe thead th {\n",
       "        text-align: right;\n",
       "    }\n",
       "</style>\n",
       "<table border=\"1\" class=\"dataframe\">\n",
       "  <thead>\n",
       "    <tr style=\"text-align: right;\">\n",
       "      <th></th>\n",
       "      <th>collision_id</th>\n",
       "    </tr>\n",
       "    <tr>\n",
       "      <th>zip_code</th>\n",
       "      <th></th>\n",
       "    </tr>\n",
       "  </thead>\n",
       "  <tbody>\n",
       "    <tr>\n",
       "      <th>11207.0</th>\n",
       "      <td>21026</td>\n",
       "    </tr>\n",
       "    <tr>\n",
       "      <th>11236.0</th>\n",
       "      <td>14981</td>\n",
       "    </tr>\n",
       "    <tr>\n",
       "      <th>11203.0</th>\n",
       "      <td>14258</td>\n",
       "    </tr>\n",
       "    <tr>\n",
       "      <th>11234.0</th>\n",
       "      <td>14100</td>\n",
       "    </tr>\n",
       "    <tr>\n",
       "      <th>10019.0</th>\n",
       "      <td>13835</td>\n",
       "    </tr>\n",
       "  </tbody>\n",
       "</table>\n",
       "</div>"
      ],
      "text/plain": [
       "          collision_id\n",
       "zip_code              \n",
       "11207.0          21026\n",
       "11236.0          14981\n",
       "11203.0          14258\n",
       "11234.0          14100\n",
       "10019.0          13835"
      ]
     },
     "metadata": {},
     "execution_count": 158
    }
   ],
   "metadata": {}
  },
  {
   "cell_type": "code",
   "execution_count": 157,
   "source": [
    "\n",
    "nomi_zipcode_data = nomi.query_postal_code('11207')\n",
    "nomi_zipcode_data"
   ],
   "outputs": [
    {
     "output_type": "execute_result",
     "data": {
      "text/plain": [
       "postal_code          11207\n",
       "country_code            US\n",
       "place_name        Brooklyn\n",
       "state_name        New York\n",
       "state_code              NY\n",
       "county_name          Kings\n",
       "county_code           47.0\n",
       "community_name         NaN\n",
       "community_code         NaN\n",
       "latitude           40.6705\n",
       "longitude          -73.894\n",
       "accuracy               4.0\n",
       "Name: 0, dtype: object"
      ]
     },
     "metadata": {},
     "execution_count": 157
    }
   ],
   "metadata": {}
  },
  {
   "cell_type": "markdown",
   "source": [
    "The location with the largest number of collisions, is Kings County in Brooklyn. `pgeocode` provides a very convenient interface to pull information from zip codes. We will talk about this more."
   ],
   "metadata": {}
  },
  {
   "cell_type": "markdown",
   "source": [
    "## Question 1: What are the average number of accidents per month per borough\n",
    "\n",
    "We summarize the collisions per year and divide the amount by 12 to obtain an average per month by borough. In 2012, Staten Island had an average of 408 1/2 accidents per month, while in 2015 Brooklyn had 4,237!"
   ],
   "metadata": {}
  },
  {
   "cell_type": "code",
   "execution_count": 113,
   "source": [
    "average_per_month_per_bureau = pd.pivot_table(collision_df, index=['borough'], columns=['year'], values=['number'], aggfunc=np.sum).transform(lambda x: x/12)"
   ],
   "outputs": [],
   "metadata": {}
  },
  {
   "cell_type": "code",
   "execution_count": 114,
   "source": [
    "average_per_month_per_bureau"
   ],
   "outputs": [
    {
     "output_type": "execute_result",
     "data": {
      "text/html": [
       "<div>\n",
       "<style scoped>\n",
       "    .dataframe tbody tr th:only-of-type {\n",
       "        vertical-align: middle;\n",
       "    }\n",
       "\n",
       "    .dataframe tbody tr th {\n",
       "        vertical-align: top;\n",
       "    }\n",
       "\n",
       "    .dataframe thead tr th {\n",
       "        text-align: left;\n",
       "    }\n",
       "\n",
       "    .dataframe thead tr:last-of-type th {\n",
       "        text-align: right;\n",
       "    }\n",
       "</style>\n",
       "<table border=\"1\" class=\"dataframe\">\n",
       "  <thead>\n",
       "    <tr>\n",
       "      <th></th>\n",
       "      <th colspan=\"10\" halign=\"left\">number</th>\n",
       "    </tr>\n",
       "    <tr>\n",
       "      <th>year</th>\n",
       "      <th>2012</th>\n",
       "      <th>2013</th>\n",
       "      <th>2014</th>\n",
       "      <th>2015</th>\n",
       "      <th>2016</th>\n",
       "      <th>2017</th>\n",
       "      <th>2018</th>\n",
       "      <th>2019</th>\n",
       "      <th>2020</th>\n",
       "      <th>2021</th>\n",
       "    </tr>\n",
       "    <tr>\n",
       "      <th>borough</th>\n",
       "      <th></th>\n",
       "      <th></th>\n",
       "      <th></th>\n",
       "      <th></th>\n",
       "      <th></th>\n",
       "      <th></th>\n",
       "      <th></th>\n",
       "      <th></th>\n",
       "      <th></th>\n",
       "      <th></th>\n",
       "    </tr>\n",
       "  </thead>\n",
       "  <tbody>\n",
       "    <tr>\n",
       "      <th>BRONX</th>\n",
       "      <td>792.583333</td>\n",
       "      <td>1647.333333</td>\n",
       "      <td>1640.666667</td>\n",
       "      <td>1771.500000</td>\n",
       "      <td>1805.000000</td>\n",
       "      <td>1783.166667</td>\n",
       "      <td>1921.583333</td>\n",
       "      <td>1869.750000</td>\n",
       "      <td>1191.583333</td>\n",
       "      <td>860.666667</td>\n",
       "    </tr>\n",
       "    <tr>\n",
       "      <th>BROOKLYN</th>\n",
       "      <td>1942.083333</td>\n",
       "      <td>3918.333333</td>\n",
       "      <td>3979.833333</td>\n",
       "      <td>4237.250000</td>\n",
       "      <td>3955.333333</td>\n",
       "      <td>3742.916667</td>\n",
       "      <td>3942.666667</td>\n",
       "      <td>3706.500000</td>\n",
       "      <td>2122.166667</td>\n",
       "      <td>1633.666667</td>\n",
       "    </tr>\n",
       "    <tr>\n",
       "      <th>MANHATTAN</th>\n",
       "      <td>1726.750000</td>\n",
       "      <td>3465.083333</td>\n",
       "      <td>3438.916667</td>\n",
       "      <td>3543.750000</td>\n",
       "      <td>3006.416667</td>\n",
       "      <td>2647.833333</td>\n",
       "      <td>2617.666667</td>\n",
       "      <td>2216.083333</td>\n",
       "      <td>904.333333</td>\n",
       "      <td>716.666667</td>\n",
       "    </tr>\n",
       "    <tr>\n",
       "      <th>QUEENS</th>\n",
       "      <td>1594.833333</td>\n",
       "      <td>3275.750000</td>\n",
       "      <td>3418.416667</td>\n",
       "      <td>3540.750000</td>\n",
       "      <td>3449.500000</td>\n",
       "      <td>3218.916667</td>\n",
       "      <td>3439.750000</td>\n",
       "      <td>3322.083333</td>\n",
       "      <td>1722.000000</td>\n",
       "      <td>1251.916667</td>\n",
       "    </tr>\n",
       "    <tr>\n",
       "      <th>STATEN ISLAND</th>\n",
       "      <td>408.500000</td>\n",
       "      <td>691.250000</td>\n",
       "      <td>551.166667</td>\n",
       "      <td>528.666667</td>\n",
       "      <td>559.083333</td>\n",
       "      <td>520.083333</td>\n",
       "      <td>514.250000</td>\n",
       "      <td>304.166667</td>\n",
       "      <td>199.000000</td>\n",
       "      <td>167.583333</td>\n",
       "    </tr>\n",
       "  </tbody>\n",
       "</table>\n",
       "</div>"
      ],
      "text/plain": [
       "                    number                                         \\\n",
       "year                  2012         2013         2014         2015   \n",
       "borough                                                             \n",
       "BRONX           792.583333  1647.333333  1640.666667  1771.500000   \n",
       "BROOKLYN       1942.083333  3918.333333  3979.833333  4237.250000   \n",
       "MANHATTAN      1726.750000  3465.083333  3438.916667  3543.750000   \n",
       "QUEENS         1594.833333  3275.750000  3418.416667  3540.750000   \n",
       "STATEN ISLAND   408.500000   691.250000   551.166667   528.666667   \n",
       "\n",
       "                                                                   \\\n",
       "year                  2016         2017         2018         2019   \n",
       "borough                                                             \n",
       "BRONX          1805.000000  1783.166667  1921.583333  1869.750000   \n",
       "BROOKLYN       3955.333333  3742.916667  3942.666667  3706.500000   \n",
       "MANHATTAN      3006.416667  2647.833333  2617.666667  2216.083333   \n",
       "QUEENS         3449.500000  3218.916667  3439.750000  3322.083333   \n",
       "STATEN ISLAND   559.083333   520.083333   514.250000   304.166667   \n",
       "\n",
       "                                         \n",
       "year                  2020         2021  \n",
       "borough                                  \n",
       "BRONX          1191.583333   860.666667  \n",
       "BROOKLYN       2122.166667  1633.666667  \n",
       "MANHATTAN       904.333333   716.666667  \n",
       "QUEENS         1722.000000  1251.916667  \n",
       "STATEN ISLAND   199.000000   167.583333  "
      ]
     },
     "metadata": {},
     "execution_count": 114
    }
   ],
   "metadata": {}
  },
  {
   "cell_type": "markdown",
   "source": [
    "## Question 2: Which hour of the day is the most dangerous for pedestrians?"
   ],
   "metadata": {}
  },
  {
   "cell_type": "code",
   "execution_count": 74,
   "source": [
    "def plot_collisions_by_hour(data):\n",
    "    pedestrians_injured = data.query(\"number_of_pedestrians_injured > 0 | number_of_pedestrians_killed > 0\")\n",
    "    pedestrians_injured['hour'] = pedestrians_injured['hour'].astype(int)\n",
    "    p = pedestrians_injured.groupby('hour').agg({'collision_id': len}).sort_values(by='hour', ascending=False)\n",
    "    p.plot()\n",
    "    plt.title('Collisions per Hour')\n",
    "    plt.xlabel('Hour')\n",
    "    plt.ylabel('Number of Collisions')\n",
    "    # sns.barchart(data=p, x='')\n",
    "    return plt.plot()\n",
    "plot_collisions_by_hour(collision_df)"
   ],
   "outputs": [
    {
     "output_type": "stream",
     "name": "stderr",
     "text": [
      "/var/folders/x_/s700z8zn2yb_tphnyd_vqg900000gn/T/ipykernel_15701/3379795862.py:3: SettingWithCopyWarning: \n",
      "A value is trying to be set on a copy of a slice from a DataFrame.\n",
      "Try using .loc[row_indexer,col_indexer] = value instead\n",
      "\n",
      "See the caveats in the documentation: https://pandas.pydata.org/pandas-docs/stable/user_guide/indexing.html#returning-a-view-versus-a-copy\n",
      "  pedestrians_injured['hour'] = pedestrians_injured['hour'].astype(int)\n"
     ]
    },
    {
     "output_type": "execute_result",
     "data": {
      "text/plain": [
       "[]"
      ]
     },
     "metadata": {},
     "execution_count": 74
    },
    {
     "output_type": "display_data",
     "data": {
      "image/png": "[encoded data removed]",
      "text/plain": [
       "<Figure size 432x288 with 1 Axes>"
      ]
     },
     "metadata": {}
    }
   ],
   "metadata": {}
  },
  {
   "cell_type": "markdown",
   "source": [
    "From the chart above, the largest number of collisions occur during afternoon peak hours. Specifically during 17 and 18 hours, corresponding to 5:00 PM and 6:00 PM. This makes sense as most people are coming home from work - tired or over-worked. What is the biggest reason for the pedestrian collisions during the hours of 5 and 6 PM?\n",
    "\n",
    "The few top reasons are due to Driver Inattention."
   ],
   "metadata": {}
  },
  {
   "cell_type": "code",
   "execution_count": 171,
   "source": [
    "pedestrians_injured = collision_df.query(\"(number_of_pedestrians_injured > 0 | number_of_pedestrians_killed > 0)\")\n",
    "pedestrians_injured['hour'] = pedestrians_injured['hour'].astype(int)\n",
    "pedestrians_injured = pedestrians_injured[(pedestrians_injured['hour'] >= 5) & (pedestrians_injured['hour'] <= 6)]\n",
    "(pedestrians_injured\n",
    "    .groupby('contributing_factor_vehicle_1')\n",
    "    .agg({'collision_id': len})\n",
    "    .sort_values(by='collision_id', ascending=False)\n",
    "    .head(5)\n",
    ")"
   ],
   "outputs": [
    {
     "output_type": "stream",
     "name": "stderr",
     "text": [
      "/var/folders/x_/s700z8zn2yb_tphnyd_vqg900000gn/T/ipykernel_15701/161839053.py:2: SettingWithCopyWarning: \n",
      "A value is trying to be set on a copy of a slice from a DataFrame.\n",
      "Try using .loc[row_indexer,col_indexer] = value instead\n",
      "\n",
      "See the caveats in the documentation: https://pandas.pydata.org/pandas-docs/stable/user_guide/indexing.html#returning-a-view-versus-a-copy\n",
      "  pedestrians_injured['hour'] = pedestrians_injured['hour'].astype(int)\n"
     ]
    },
    {
     "output_type": "execute_result",
     "data": {
      "text/html": [
       "<div>\n",
       "<style scoped>\n",
       "    .dataframe tbody tr th:only-of-type {\n",
       "        vertical-align: middle;\n",
       "    }\n",
       "\n",
       "    .dataframe tbody tr th {\n",
       "        vertical-align: top;\n",
       "    }\n",
       "\n",
       "    .dataframe thead th {\n",
       "        text-align: right;\n",
       "    }\n",
       "</style>\n",
       "<table border=\"1\" class=\"dataframe\">\n",
       "  <thead>\n",
       "    <tr style=\"text-align: right;\">\n",
       "      <th></th>\n",
       "      <th>collision_id</th>\n",
       "    </tr>\n",
       "    <tr>\n",
       "      <th>contributing_factor_vehicle_1</th>\n",
       "      <th></th>\n",
       "    </tr>\n",
       "  </thead>\n",
       "  <tbody>\n",
       "    <tr>\n",
       "      <th>Unspecified</th>\n",
       "      <td>1227</td>\n",
       "    </tr>\n",
       "    <tr>\n",
       "      <th>Driver Inattention/Distraction</th>\n",
       "      <td>668</td>\n",
       "    </tr>\n",
       "    <tr>\n",
       "      <th>Failure to Yield Right-of-Way</th>\n",
       "      <td>641</td>\n",
       "    </tr>\n",
       "    <tr>\n",
       "      <th>Pedestrian/Bicyclist/Other Pedestrian Error/Confusion</th>\n",
       "      <td>86</td>\n",
       "    </tr>\n",
       "    <tr>\n",
       "      <th>View Obstructed/Limited</th>\n",
       "      <td>73</td>\n",
       "    </tr>\n",
       "  </tbody>\n",
       "</table>\n",
       "</div>"
      ],
      "text/plain": [
       "                                                    collision_id\n",
       "contributing_factor_vehicle_1                                   \n",
       "Unspecified                                                 1227\n",
       "Driver Inattention/Distraction                               668\n",
       "Failure to Yield Right-of-Way                                641\n",
       "Pedestrian/Bicyclist/Other Pedestrian Error/Con...            86\n",
       "View Obstructed/Limited                                       73"
      ]
     },
     "metadata": {},
     "execution_count": 171
    }
   ],
   "metadata": {}
  },
  {
   "cell_type": "markdown",
   "source": [
    "## Question 3: Which year has the most accidents?"
   ],
   "metadata": {}
  },
  {
   "cell_type": "code",
   "execution_count": 75,
   "source": [
    "def plot_collisions_by_year(data):\n",
    "    # pedestrians_injured = data.query(\"number_of_pedestrians_injured > 0 | number_of_pedestrians_killed > 0\")\n",
    "    data['year'] = data['year'].astype(int)\n",
    "    p = data.groupby('year').agg({'collision_id': len}).sort_values(by='year', ascending=False)\n",
    "    p.plot()\n",
    "    plt.title('Collisions by Year')\n",
    "    plt.xlabel('Year')\n",
    "    plt.ylabel('Number of Collisions')\n",
    "    # sns.barchart(data=p, x='')\n",
    "    return plt.plot()\n",
    "plot_collisions_by_year(collision_df)"
   ],
   "outputs": [
    {
     "output_type": "execute_result",
     "data": {
      "text/plain": [
       "[]"
      ]
     },
     "metadata": {},
     "execution_count": 75
    },
    {
     "output_type": "display_data",
     "data": {
      "image/png": "[encoded data removed]",
      "text/plain": [
       "<Figure size 432x288 with 1 Axes>"
      ]
     },
     "metadata": {}
    }
   ],
   "metadata": {}
  },
  {
   "cell_type": "markdown",
   "source": [
    "The year with the most collisions is 2018. "
   ],
   "metadata": {}
  },
  {
   "cell_type": "markdown",
   "source": [
    "# Data Quality\n",
    "\n",
    "Working with this data we know there are some data quality issues. For example, the geolocation information. If you look at the Tableau Dashboard you will notice an issue with how the zip-codes are plotting on the map. The reason why this is occuring is because we typically take the **AVG()** of all data points within the lat and long vectors. If we have a value with 0.0, it will negatively impact the rest of the vector. This is evident with the left graph.\n",
    "\n",
    "We should replace this latitude and longitude data with NaN / Null, when it is equal to 0.0. We can replace or do this when we pivot / group the data. "
   ],
   "metadata": {}
  },
  {
   "cell_type": "code",
   "execution_count": 17,
   "source": [
    "collision_df.loc[:, ['latitude', 'longitude']].describe()"
   ],
   "outputs": [
    {
     "output_type": "execute_result",
     "data": {
      "text/html": [
       "<div>\n",
       "<style scoped>\n",
       "    .dataframe tbody tr th:only-of-type {\n",
       "        vertical-align: middle;\n",
       "    }\n",
       "\n",
       "    .dataframe tbody tr th {\n",
       "        vertical-align: top;\n",
       "    }\n",
       "\n",
       "    .dataframe thead th {\n",
       "        text-align: right;\n",
       "    }\n",
       "</style>\n",
       "<table border=\"1\" class=\"dataframe\">\n",
       "  <thead>\n",
       "    <tr style=\"text-align: right;\">\n",
       "      <th></th>\n",
       "      <th>latitude</th>\n",
       "      <th>longitude</th>\n",
       "    </tr>\n",
       "  </thead>\n",
       "  <tbody>\n",
       "    <tr>\n",
       "      <th>count</th>\n",
       "      <td>1.615792e+06</td>\n",
       "      <td>1.615792e+06</td>\n",
       "    </tr>\n",
       "    <tr>\n",
       "      <th>mean</th>\n",
       "      <td>4.067283e+01</td>\n",
       "      <td>-7.383508e+01</td>\n",
       "    </tr>\n",
       "    <tr>\n",
       "      <th>std</th>\n",
       "      <td>1.447575e+00</td>\n",
       "      <td>2.823822e+00</td>\n",
       "    </tr>\n",
       "    <tr>\n",
       "      <th>min</th>\n",
       "      <td>0.000000e+00</td>\n",
       "      <td>-2.013600e+02</td>\n",
       "    </tr>\n",
       "    <tr>\n",
       "      <th>25%</th>\n",
       "      <td>4.066845e+01</td>\n",
       "      <td>-7.397563e+01</td>\n",
       "    </tr>\n",
       "    <tr>\n",
       "      <th>50%</th>\n",
       "      <td>4.072168e+01</td>\n",
       "      <td>-7.392805e+01</td>\n",
       "    </tr>\n",
       "    <tr>\n",
       "      <th>75%</th>\n",
       "      <td>4.076903e+01</td>\n",
       "      <td>-7.386668e+01</td>\n",
       "    </tr>\n",
       "    <tr>\n",
       "      <th>max</th>\n",
       "      <td>4.334444e+01</td>\n",
       "      <td>0.000000e+00</td>\n",
       "    </tr>\n",
       "  </tbody>\n",
       "</table>\n",
       "</div>"
      ],
      "text/plain": [
       "           latitude     longitude\n",
       "count  1.615792e+06  1.615792e+06\n",
       "mean   4.067283e+01 -7.383508e+01\n",
       "std    1.447575e+00  2.823822e+00\n",
       "min    0.000000e+00 -2.013600e+02\n",
       "25%    4.066845e+01 -7.397563e+01\n",
       "50%    4.072168e+01 -7.392805e+01\n",
       "75%    4.076903e+01 -7.386668e+01\n",
       "max    4.334444e+01  0.000000e+00"
      ]
     },
     "metadata": {},
     "execution_count": 17
    }
   ],
   "metadata": {}
  },
  {
   "cell_type": "markdown",
   "source": [
    "Latitude (0.0) the min - is a data quality issue. This is wrong because the location of (0.0, 0.0) is known as Null Island, this is where the Prime meridian and the equator intersect. "
   ],
   "metadata": {}
  },
  {
   "cell_type": "code",
   "execution_count": 24,
   "source": [
    "# Confirm first - Finding the number of issues and a few IDs for 0.0 Latitude\n",
    "len(collision_df[collision_df['latitude'] == 0.0]['collision_id']), collision_df[collision_df['latitude'] == 0.0]['collision_id'].head()"
   ],
   "outputs": [
    {
     "output_type": "execute_result",
     "data": {
      "text/plain": [
       "(2038,\n",
       " 785785    3421906\n",
       " 785806    3421927\n",
       " 813121    3449248\n",
       " 816864    3452991\n",
       " 816865    3452992\n",
       " Name: collision_id, dtype: int64)"
      ]
     },
     "metadata": {},
     "execution_count": 24
    }
   ],
   "metadata": {}
  },
  {
   "cell_type": "markdown",
   "source": [
    "There are about 2,038 records with a latitude of 0.0 - I expect the longitude data to be the same IDs. As we can see below, the location field is a dictionary of lat/long, and when the latitude is 0.0 the longitude is 0.0. This is a data quality issue."
   ],
   "metadata": {}
  },
  {
   "cell_type": "code",
   "execution_count": 30,
   "source": [
    "# filtering on a given collision ID to find \n",
    "collision_df[collision_df['collision_id'].isin([3452992, 3452991]) ]['location']"
   ],
   "outputs": [
    {
     "output_type": "execute_result",
     "data": {
      "text/plain": [
       "816864    {'latitude': '0.0', 'longitude': '0.0'}\n",
       "816865    {'latitude': '0.0', 'longitude': '0.0'}\n",
       "Name: location, dtype: object"
      ]
     },
     "metadata": {},
     "execution_count": 30
    }
   ],
   "metadata": {}
  },
  {
   "cell_type": "markdown",
   "source": [
    "# Next Steps\n",
    "\n",
    "This is a very brief introduction into the Motor Vehicle Crash Collision dataset. If we were to extend this project to incorporate more data and to address the data quality, we should inspect the two tables that share a relationship - Vehicles and Persons. \n",
    "\n",
    "The next steps would be to clean-up the dataset, by enriching the underlying data with publically available data and other python related libraries. For example, we pulled a list of all the zip_codes and boroughs in manhattan from a website. We used a popular library to parse html called `BeautifulSoup`. Next, would be to create a function to return latitude and longtitude coordinates for all the zip codes that do not have lat/long. We will use the `geopy` library. "
   ],
   "metadata": {}
  },
  {
   "cell_type": "code",
   "execution_count": 150,
   "source": [
    "def get_geo_data(country_code='us'):\n",
    "    from src.api.zip_codes import get_zip_codes\n",
    "    import pgeocode\n",
    "    nomi = pgeocode.Nominatim(country_code)\n",
    "    \n",
    "    zip_codes = get_zip_codes()\n",
    "    unique_zips = list(set(zip_codes['zip_code']))\n",
    "\n",
    "    nomi_zipcode_data = nomi.query_postal_code(unique_zips)\n",
    "    return nomi_zipcode_data\n",
    "    \n",
    "geo_df = get_geo_data()"
   ],
   "outputs": [],
   "metadata": {}
  },
  {
   "cell_type": "code",
   "execution_count": 153,
   "source": [
    "enriched_data = pd.merge(collision_df, geo_df, left_on='zip_code', right_on='postal_code', how='left')"
   ],
   "outputs": [],
   "metadata": {}
  },
  {
   "cell_type": "code",
   "execution_count": 172,
   "source": [
    "enriched_data.shape"
   ],
   "outputs": [
    {
     "output_type": "execute_result",
     "data": {
      "text/plain": [
       "(1830092, 49)"
      ]
     },
     "metadata": {},
     "execution_count": 172
    }
   ],
   "metadata": {}
  },
  {
   "cell_type": "markdown",
   "source": [
    "Our enriched data now contains 1830092 rows and 49 columns!"
   ],
   "metadata": {}
  },
  {
   "cell_type": "markdown",
   "source": [
    "# Conclusion\n",
    "\n",
    "We were able to answer Mikes questions using Python and Tableau. I hope this general notebook provides a general introduction into my code style and technical abilities.Also, showcasing the ability to solve similar problems with different technologies. We did not get the chance to showcase `pydatatable`, if you want to look more into the package this doc [compares pandas to datatable](https://datatable.readthedocs.io/en/latest/manual/comparison_with_pandas.html). \n",
    "\n",
    "Thank You!\n",
    "\n",
    "Best,\n",
    "Jordan Carson"
   ],
   "metadata": {}
  },
  {
   "cell_type": "markdown",
   "source": [],
   "metadata": {}
  }
 ],
 "metadata": {
  "orig_nbformat": 4,
  "language_info": {
   "name": "python",
   "version": "3.9.5",
   "mimetype": "text/x-python",
   "codemirror_mode": {
    "name": "ipython",
    "version": 3
   },
   "pygments_lexer": "ipython3",
   "nbconvert_exporter": "python",
   "file_extension": ".py"
  },
  "kernelspec": {
   "name": "python3",
   "display_name": "Python 3.9.5 64-bit ('3.9.5': pyenv)"
  },
  "interpreter": {
   "hash": "fdd338dfa850261f035b26e14a7286b8675656f858c7969cf6cbcb21f8762763"
  }
 },
 "nbformat": 4,
 "nbformat_minor": 2
}