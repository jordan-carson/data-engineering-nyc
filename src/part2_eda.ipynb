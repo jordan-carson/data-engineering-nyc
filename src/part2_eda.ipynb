{
 "cells": [
  {
   "cell_type": "markdown",
   "source": [
    "# Part 2 - Exploratory Data Analytics\n",
    "\n",
    "We are using the output from the first notebook. \n"
   ],
   "metadata": {}
  },
  {
   "cell_type": "code",
   "execution_count": 4,
   "source": [
    "import os\n",
    "import sys\n",
    "from pathlib import Path\n",
    "CWD = str(Path.cwd().parent)\n",
    "sys.path.append(CWD)\n",
    "from datetime import datetime, timedelta\n",
    "\n",
    "import pandas as pd\n",
    "import datatable as dt\n",
    "from datatable import f, by\n",
    "from common.utilities import decorators \n",
    "print(CWD)"
   ],
   "outputs": [
    {
     "output_type": "stream",
     "name": "stdout",
     "text": [
      "/Users/jordancarson/Projects/JPM/data-engineering-nyc\n"
     ]
    }
   ],
   "metadata": {}
  },
  {
   "cell_type": "markdown",
   "source": [
    "We are going to be using both `pandas` and `datatable` for our EDA (exploratory data analysis). The below data has not been transformed from source and is in the same shape and size as the entire NYC OpenData MVCC table. We have parameters within pd.read_csv that will us to transform while reading."
   ],
   "metadata": {}
  },
  {
   "cell_type": "markdown",
   "source": [
    "## Looking and Finding DQ Issues"
   ],
   "metadata": {}
  },
  {
   "cell_type": "code",
   "execution_count": 50,
   "source": [
    "collision_df = pd.read_csv(\n",
    "    os.path.join(CWD, '.data', 'output.csv'),\n",
    "    # parse_dates={'crash_date_time': [\"crash_date\", \"crash_time\"]},\n",
    "    infer_datetime_format=True,\n",
    "    dtype={'zip_code': \"str\"}\n",
    ")"
   ],
   "outputs": [],
   "metadata": {}
  },
  {
   "cell_type": "code",
   "execution_count": 37,
   "source": [
    "collision_df.shape"
   ],
   "outputs": [
    {
     "output_type": "execute_result",
     "data": {
      "text/plain": [
       "(1830092, 30)"
      ]
     },
     "metadata": {},
     "execution_count": 37
    }
   ],
   "metadata": {}
  },
  {
   "cell_type": "markdown",
   "source": [
    "Creating our Date fields."
   ],
   "metadata": {}
  },
  {
   "cell_type": "code",
   "execution_count": 74,
   "source": [
    "collision_df['crash_date'] = pd.to_datetime(collision_df['crash_date'], format=\"%Y-%m-%d\")\n",
    "collision_df['crash_time'] = collision_df['crash_time'].str[11:] # slicing to get only the time value back\n",
    "collision_df['year'] = collision_df['crash_date'].dt.year\n",
    "collision_df['month'] = collision_df['crash_date'].dt.month\n",
    "collision_df['day'] = collision_df['crash_date'].dt.day\n",
    "collision_df['hour'] = collision_df['crash_time'].str[:2]\n",
    "collision_df['minutes'] = collision_df['crash_time'].str[3:5]\n",
    "collision_df['seconds'] = collision_df['crash_time'].str[6:]"
   ],
   "outputs": [],
   "metadata": {}
  },
  {
   "cell_type": "code",
   "execution_count": 73,
   "source": [
    "collision_df['crash_time'].head(1).str[11:].str[6:]\n",
    "    # print(i[10:])/"
   ],
   "outputs": [
    {
     "output_type": "execute_result",
     "data": {
      "text/plain": [
       "0    00\n",
       "Name: crash_time, dtype: object"
      ]
     },
     "metadata": {},
     "execution_count": 73
    }
   ],
   "metadata": {}
  },
  {
   "cell_type": "markdown",
   "source": [
    "We can see that we have 1,830,092 rows, with 29 columns. A [data dictionary](https://data.cityofnewyork.us/api/views/h9gi-nx95/files/bd7ab0b2-d48c-48c4-a0a5-590d31a3e120?download=true&filename=MVCollisionsDataDictionary_20190813_ERD.xlsx) is available which shows the metadata and table relationship between the Motor Vehicle - Crashes, Vehicles and Persons."
   ],
   "metadata": {}
  },
  {
   "cell_type": "code",
   "execution_count": 15,
   "source": [
    "collision_df['crash_date_time'].min(), collision_df['crash_date_time'].describe()"
   ],
   "outputs": [
    {
     "output_type": "execute_result",
     "data": {
      "text/plain": [
       "('2012-07-01T00:00:00.000 2021-10-15 00:05:00',\n",
       " count                                         1830092\n",
       " unique                                         956712\n",
       " top       2015-01-18T00:00:00.000 2021-10-15 08:00:00\n",
       " freq                                               51\n",
       " Name: crash_date_time, dtype: object)"
      ]
     },
     "metadata": {},
     "execution_count": 15
    }
   ],
   "metadata": {}
  },
  {
   "cell_type": "markdown",
   "source": [
    "The Collision Data **begins** on ***July 1st 2012*** and series **ends** on ***October 15th 2021***. "
   ],
   "metadata": {}
  },
  {
   "cell_type": "code",
   "execution_count": 16,
   "source": [
    "# Next lets find the missing data\n",
    "print(collision_df.shape[0] - collision_df.count())"
   ],
   "outputs": [
    {
     "output_type": "stream",
     "name": "stdout",
     "text": [
      "crash_date_time                        0\n",
      "Unnamed: 0                             0\n",
      "borough                           564983\n",
      "zip_code                          565203\n",
      "latitude                          214300\n",
      "longitude                         214300\n",
      "location                          214300\n",
      "on_street_name                    373516\n",
      "off_street_name                   656307\n",
      "number_of_persons_injured             18\n",
      "number_of_persons_killed              31\n",
      "number_of_pedestrians_injured          0\n",
      "number_of_pedestrians_killed           0\n",
      "number_of_cyclist_injured              0\n",
      "number_of_cyclist_killed               0\n",
      "number_of_motorist_injured             0\n",
      "number_of_motorist_killed              0\n",
      "contributing_factor_vehicle_1       5247\n",
      "contributing_factor_vehicle_2     264256\n",
      "collision_id                           0\n",
      "vehicle_type_code1                  9986\n",
      "vehicle_type_code2                313450\n",
      "contributing_factor_vehicle_3    1705024\n",
      "vehicle_type_code_3              1708718\n",
      "cross_street_name                1548945\n",
      "contributing_factor_vehicle_4    1802791\n",
      "contributing_factor_vehicle_5    1822866\n",
      "vehicle_type_code_4              1803601\n",
      "vehicle_type_code_5              1823064\n",
      "dtype: int64\n"
     ]
    }
   ],
   "metadata": {}
  },
  {
   "cell_type": "markdown",
   "source": [
    "We can see that some fields have almost **all** missing values. \n",
    "\n",
    "There are 565,203 cases with no zip_code and 564,983 with no borough. Latitude and Longitude data has about 214,300 missing entries. Along with the location - location is a tuple of the lat/long data. We should be able to infer the zip-code and borough from the geolocation fields and or from additional sources."
   ],
   "metadata": {}
  },
  {
   "cell_type": "code",
   "execution_count": 17,
   "source": [
    "collision_df.loc[:, ['latitude', 'longitude']].describe()"
   ],
   "outputs": [
    {
     "output_type": "execute_result",
     "data": {
      "text/html": [
       "<div>\n",
       "<style scoped>\n",
       "    .dataframe tbody tr th:only-of-type {\n",
       "        vertical-align: middle;\n",
       "    }\n",
       "\n",
       "    .dataframe tbody tr th {\n",
       "        vertical-align: top;\n",
       "    }\n",
       "\n",
       "    .dataframe thead th {\n",
       "        text-align: right;\n",
       "    }\n",
       "</style>\n",
       "<table border=\"1\" class=\"dataframe\">\n",
       "  <thead>\n",
       "    <tr style=\"text-align: right;\">\n",
       "      <th></th>\n",
       "      <th>latitude</th>\n",
       "      <th>longitude</th>\n",
       "    </tr>\n",
       "  </thead>\n",
       "  <tbody>\n",
       "    <tr>\n",
       "      <th>count</th>\n",
       "      <td>1.615792e+06</td>\n",
       "      <td>1.615792e+06</td>\n",
       "    </tr>\n",
       "    <tr>\n",
       "      <th>mean</th>\n",
       "      <td>4.067283e+01</td>\n",
       "      <td>-7.383508e+01</td>\n",
       "    </tr>\n",
       "    <tr>\n",
       "      <th>std</th>\n",
       "      <td>1.447575e+00</td>\n",
       "      <td>2.823822e+00</td>\n",
       "    </tr>\n",
       "    <tr>\n",
       "      <th>min</th>\n",
       "      <td>0.000000e+00</td>\n",
       "      <td>-2.013600e+02</td>\n",
       "    </tr>\n",
       "    <tr>\n",
       "      <th>25%</th>\n",
       "      <td>4.066845e+01</td>\n",
       "      <td>-7.397563e+01</td>\n",
       "    </tr>\n",
       "    <tr>\n",
       "      <th>50%</th>\n",
       "      <td>4.072168e+01</td>\n",
       "      <td>-7.392805e+01</td>\n",
       "    </tr>\n",
       "    <tr>\n",
       "      <th>75%</th>\n",
       "      <td>4.076903e+01</td>\n",
       "      <td>-7.386668e+01</td>\n",
       "    </tr>\n",
       "    <tr>\n",
       "      <th>max</th>\n",
       "      <td>4.334444e+01</td>\n",
       "      <td>0.000000e+00</td>\n",
       "    </tr>\n",
       "  </tbody>\n",
       "</table>\n",
       "</div>"
      ],
      "text/plain": [
       "           latitude     longitude\n",
       "count  1.615792e+06  1.615792e+06\n",
       "mean   4.067283e+01 -7.383508e+01\n",
       "std    1.447575e+00  2.823822e+00\n",
       "min    0.000000e+00 -2.013600e+02\n",
       "25%    4.066845e+01 -7.397563e+01\n",
       "50%    4.072168e+01 -7.392805e+01\n",
       "75%    4.076903e+01 -7.386668e+01\n",
       "max    4.334444e+01  0.000000e+00"
      ]
     },
     "metadata": {},
     "execution_count": 17
    }
   ],
   "metadata": {}
  },
  {
   "cell_type": "markdown",
   "source": [
    "Theres something wrong about these two geolocation fields, the min of latitude is 0.0 - The location of (0.0, 0.0) is known as Null Island, this is where the Prime meridian and the equator intersect. This location is **not** in NYC, thus this is a data quality issue. In fact, if you open the Tableau Dashboard that is paired with this project you will notice an issue with how the zip-codes are plotting on the map. The reason why this is occuring is we are taking the **AVG()** of all data points within the lat and long vectors. If we have a value with 0.0, it will negatively impact the rest of the vector. \n",
    "\n",
    "Thus, we should replace this latitude and longitude data with NaN / Null, when it is equal to 0.0."
   ],
   "metadata": {}
  },
  {
   "cell_type": "code",
   "execution_count": 24,
   "source": [
    "# Confirm first - Finding the number of issues and a few IDs for 0.0 Latitude\n",
    "len(collision_df[collision_df['latitude'] == 0.0]['collision_id']), collision_df[collision_df['latitude'] == 0.0]['collision_id'].head()"
   ],
   "outputs": [
    {
     "output_type": "execute_result",
     "data": {
      "text/plain": [
       "(2038,\n",
       " 785785    3421906\n",
       " 785806    3421927\n",
       " 813121    3449248\n",
       " 816864    3452991\n",
       " 816865    3452992\n",
       " Name: collision_id, dtype: int64)"
      ]
     },
     "metadata": {},
     "execution_count": 24
    }
   ],
   "metadata": {}
  },
  {
   "cell_type": "markdown",
   "source": [
    "There are about 2,038 records with a latitude of 0.0 - I expect the longitude data to be the same IDs. As we can see below, the location field is a dictionary of lat/long, and when the latitude is 0.0 the longitude is 0.0. This is a data quality issue."
   ],
   "metadata": {}
  },
  {
   "cell_type": "code",
   "execution_count": 30,
   "source": [
    "# filtering on a given collision ID to find \n",
    "collision_df[collision_df['collision_id'].isin([3452992, 3452991]) ]['location']"
   ],
   "outputs": [
    {
     "output_type": "execute_result",
     "data": {
      "text/plain": [
       "816864    {'latitude': '0.0', 'longitude': '0.0'}\n",
       "816865    {'latitude': '0.0', 'longitude': '0.0'}\n",
       "Name: location, dtype: object"
      ]
     },
     "metadata": {},
     "execution_count": 30
    }
   ],
   "metadata": {}
  },
  {
   "cell_type": "code",
   "execution_count": null,
   "source": [
    "def plot_top_causes(data):\n",
    "    data['incidents'] = \n",
    "\n",
    "    d = d.groupby('reason').agg({'incidents': np.sum}).sort_values(by='incidents')\n",
    "    d.plot(kind='barh', legend=False, figsize=(10,10))\n",
    "    plt.title('2012-2017 Top Contributing Factors to Motor Vehicle Collisions\\nRed = Top 15 Causes')\n",
    "    plt.xlabel('Incidents')\n",
    "    plt.ylabel('')\n",
    "    plt.axhline(len(d)-20.5, color='#CC0000')"
   ],
   "outputs": [],
   "metadata": {}
  },
  {
   "cell_type": "code",
   "execution_count": 33,
   "source": [
    "collision_df['crash_date_time'] = pd.to_datetime(collision_df['crash_date_time'])"
   ],
   "outputs": [
    {
     "output_type": "error",
     "ename": "ParserError",
     "evalue": "Unknown string format: 2012-07-01T00:00:00.000 2021-10-15 10:40:00",
     "traceback": [
      "\u001b[0;31m---------------------------------------------------------------------------\u001b[0m",
      "\u001b[0;31mTypeError\u001b[0m                                 Traceback (most recent call last)",
      "\u001b[0;32m~/.pyenv/versions/3.9.5/lib/python3.9/site-packages/pandas/core/arrays/datetimes.py\u001b[0m in \u001b[0;36mobjects_to_datetime64ns\u001b[0;34m(data, dayfirst, yearfirst, utc, errors, require_iso8601, allow_object, allow_mixed)\u001b[0m\n\u001b[1;32m   2186\u001b[0m         \u001b[0;32mtry\u001b[0m\u001b[0;34m:\u001b[0m\u001b[0;34m\u001b[0m\u001b[0;34m\u001b[0m\u001b[0m\n\u001b[0;32m-> 2187\u001b[0;31m             \u001b[0mvalues\u001b[0m\u001b[0;34m,\u001b[0m \u001b[0mtz_parsed\u001b[0m \u001b[0;34m=\u001b[0m \u001b[0mconversion\u001b[0m\u001b[0;34m.\u001b[0m\u001b[0mdatetime_to_datetime64\u001b[0m\u001b[0;34m(\u001b[0m\u001b[0mdata\u001b[0m\u001b[0;34m.\u001b[0m\u001b[0mravel\u001b[0m\u001b[0;34m(\u001b[0m\u001b[0;34m\"K\"\u001b[0m\u001b[0;34m)\u001b[0m\u001b[0;34m)\u001b[0m\u001b[0;34m\u001b[0m\u001b[0;34m\u001b[0m\u001b[0m\n\u001b[0m\u001b[1;32m   2188\u001b[0m             \u001b[0;31m# If tzaware, these values represent unix timestamps, so we\u001b[0m\u001b[0;34m\u001b[0m\u001b[0;34m\u001b[0m\u001b[0;34m\u001b[0m\u001b[0m\n",
      "\u001b[0;32m~/.pyenv/versions/3.9.5/lib/python3.9/site-packages/pandas/_libs/tslibs/conversion.pyx\u001b[0m in \u001b[0;36mpandas._libs.tslibs.conversion.datetime_to_datetime64\u001b[0;34m()\u001b[0m\n",
      "\u001b[0;31mTypeError\u001b[0m: Unrecognized value type: <class 'str'>",
      "\nDuring handling of the above exception, another exception occurred:\n",
      "\u001b[0;31mParserError\u001b[0m                               Traceback (most recent call last)",
      "\u001b[0;32m/var/folders/x_/s700z8zn2yb_tphnyd_vqg900000gn/T/ipykernel_91160/3589451416.py\u001b[0m in \u001b[0;36m<module>\u001b[0;34m\u001b[0m\n\u001b[0;32m----> 1\u001b[0;31m \u001b[0mcollision_df\u001b[0m\u001b[0;34m[\u001b[0m\u001b[0;34m'crash_date_time'\u001b[0m\u001b[0;34m]\u001b[0m \u001b[0;34m=\u001b[0m \u001b[0mpd\u001b[0m\u001b[0;34m.\u001b[0m\u001b[0mto_datetime\u001b[0m\u001b[0;34m(\u001b[0m\u001b[0mcollision_df\u001b[0m\u001b[0;34m[\u001b[0m\u001b[0;34m'crash_date_time'\u001b[0m\u001b[0;34m]\u001b[0m\u001b[0;34m)\u001b[0m\u001b[0;34m\u001b[0m\u001b[0;34m\u001b[0m\u001b[0m\n\u001b[0m",
      "\u001b[0;32m~/.pyenv/versions/3.9.5/lib/python3.9/site-packages/pandas/core/tools/datetimes.py\u001b[0m in \u001b[0;36mto_datetime\u001b[0;34m(arg, errors, dayfirst, yearfirst, utc, format, exact, unit, infer_datetime_format, origin, cache)\u001b[0m\n\u001b[1;32m    885\u001b[0m             \u001b[0mresult\u001b[0m \u001b[0;34m=\u001b[0m \u001b[0marg\u001b[0m\u001b[0;34m.\u001b[0m\u001b[0mmap\u001b[0m\u001b[0;34m(\u001b[0m\u001b[0mcache_array\u001b[0m\u001b[0;34m)\u001b[0m\u001b[0;34m\u001b[0m\u001b[0;34m\u001b[0m\u001b[0m\n\u001b[1;32m    886\u001b[0m         \u001b[0;32melse\u001b[0m\u001b[0;34m:\u001b[0m\u001b[0;34m\u001b[0m\u001b[0;34m\u001b[0m\u001b[0m\n\u001b[0;32m--> 887\u001b[0;31m             \u001b[0mvalues\u001b[0m \u001b[0;34m=\u001b[0m \u001b[0mconvert_listlike\u001b[0m\u001b[0;34m(\u001b[0m\u001b[0marg\u001b[0m\u001b[0;34m.\u001b[0m\u001b[0m_values\u001b[0m\u001b[0;34m,\u001b[0m \u001b[0mformat\u001b[0m\u001b[0;34m)\u001b[0m\u001b[0;34m\u001b[0m\u001b[0;34m\u001b[0m\u001b[0m\n\u001b[0m\u001b[1;32m    888\u001b[0m             \u001b[0mresult\u001b[0m \u001b[0;34m=\u001b[0m \u001b[0marg\u001b[0m\u001b[0;34m.\u001b[0m\u001b[0m_constructor\u001b[0m\u001b[0;34m(\u001b[0m\u001b[0mvalues\u001b[0m\u001b[0;34m,\u001b[0m \u001b[0mindex\u001b[0m\u001b[0;34m=\u001b[0m\u001b[0marg\u001b[0m\u001b[0;34m.\u001b[0m\u001b[0mindex\u001b[0m\u001b[0;34m,\u001b[0m \u001b[0mname\u001b[0m\u001b[0;34m=\u001b[0m\u001b[0marg\u001b[0m\u001b[0;34m.\u001b[0m\u001b[0mname\u001b[0m\u001b[0;34m)\u001b[0m\u001b[0;34m\u001b[0m\u001b[0;34m\u001b[0m\u001b[0m\n\u001b[1;32m    889\u001b[0m     \u001b[0;32melif\u001b[0m \u001b[0misinstance\u001b[0m\u001b[0;34m(\u001b[0m\u001b[0marg\u001b[0m\u001b[0;34m,\u001b[0m \u001b[0;34m(\u001b[0m\u001b[0mABCDataFrame\u001b[0m\u001b[0;34m,\u001b[0m \u001b[0mabc\u001b[0m\u001b[0;34m.\u001b[0m\u001b[0mMutableMapping\u001b[0m\u001b[0;34m)\u001b[0m\u001b[0;34m)\u001b[0m\u001b[0;34m:\u001b[0m\u001b[0;34m\u001b[0m\u001b[0;34m\u001b[0m\u001b[0m\n",
      "\u001b[0;32m~/.pyenv/versions/3.9.5/lib/python3.9/site-packages/pandas/core/tools/datetimes.py\u001b[0m in \u001b[0;36m_convert_listlike_datetimes\u001b[0;34m(arg, format, name, tz, unit, errors, infer_datetime_format, dayfirst, yearfirst, exact)\u001b[0m\n\u001b[1;32m    399\u001b[0m     \u001b[0;32massert\u001b[0m \u001b[0mformat\u001b[0m \u001b[0;32mis\u001b[0m \u001b[0;32mNone\u001b[0m \u001b[0;32mor\u001b[0m \u001b[0minfer_datetime_format\u001b[0m\u001b[0;34m\u001b[0m\u001b[0;34m\u001b[0m\u001b[0m\n\u001b[1;32m    400\u001b[0m     \u001b[0mutc\u001b[0m \u001b[0;34m=\u001b[0m \u001b[0mtz\u001b[0m \u001b[0;34m==\u001b[0m \u001b[0;34m\"utc\"\u001b[0m\u001b[0;34m\u001b[0m\u001b[0;34m\u001b[0m\u001b[0m\n\u001b[0;32m--> 401\u001b[0;31m     result, tz_parsed = objects_to_datetime64ns(\n\u001b[0m\u001b[1;32m    402\u001b[0m         \u001b[0marg\u001b[0m\u001b[0;34m,\u001b[0m\u001b[0;34m\u001b[0m\u001b[0;34m\u001b[0m\u001b[0m\n\u001b[1;32m    403\u001b[0m         \u001b[0mdayfirst\u001b[0m\u001b[0;34m=\u001b[0m\u001b[0mdayfirst\u001b[0m\u001b[0;34m,\u001b[0m\u001b[0;34m\u001b[0m\u001b[0;34m\u001b[0m\u001b[0m\n",
      "\u001b[0;32m~/.pyenv/versions/3.9.5/lib/python3.9/site-packages/pandas/core/arrays/datetimes.py\u001b[0m in \u001b[0;36mobjects_to_datetime64ns\u001b[0;34m(data, dayfirst, yearfirst, utc, errors, require_iso8601, allow_object, allow_mixed)\u001b[0m\n\u001b[1;32m   2191\u001b[0m             \u001b[0;32mreturn\u001b[0m \u001b[0mvalues\u001b[0m\u001b[0;34m.\u001b[0m\u001b[0mview\u001b[0m\u001b[0;34m(\u001b[0m\u001b[0;34m\"i8\"\u001b[0m\u001b[0;34m)\u001b[0m\u001b[0;34m,\u001b[0m \u001b[0mtz_parsed\u001b[0m\u001b[0;34m\u001b[0m\u001b[0;34m\u001b[0m\u001b[0m\n\u001b[1;32m   2192\u001b[0m         \u001b[0;32mexcept\u001b[0m \u001b[0;34m(\u001b[0m\u001b[0mValueError\u001b[0m\u001b[0;34m,\u001b[0m \u001b[0mTypeError\u001b[0m\u001b[0;34m)\u001b[0m\u001b[0;34m:\u001b[0m\u001b[0;34m\u001b[0m\u001b[0;34m\u001b[0m\u001b[0m\n\u001b[0;32m-> 2193\u001b[0;31m             \u001b[0;32mraise\u001b[0m \u001b[0merr\u001b[0m\u001b[0;34m\u001b[0m\u001b[0;34m\u001b[0m\u001b[0m\n\u001b[0m\u001b[1;32m   2194\u001b[0m \u001b[0;34m\u001b[0m\u001b[0m\n\u001b[1;32m   2195\u001b[0m     \u001b[0;32mif\u001b[0m \u001b[0mtz_parsed\u001b[0m \u001b[0;32mis\u001b[0m \u001b[0;32mnot\u001b[0m \u001b[0;32mNone\u001b[0m\u001b[0;34m:\u001b[0m\u001b[0;34m\u001b[0m\u001b[0;34m\u001b[0m\u001b[0m\n",
      "\u001b[0;32m~/.pyenv/versions/3.9.5/lib/python3.9/site-packages/pandas/core/arrays/datetimes.py\u001b[0m in \u001b[0;36mobjects_to_datetime64ns\u001b[0;34m(data, dayfirst, yearfirst, utc, errors, require_iso8601, allow_object, allow_mixed)\u001b[0m\n\u001b[1;32m   2173\u001b[0m     \u001b[0morder\u001b[0m\u001b[0;34m:\u001b[0m \u001b[0mLiteral\u001b[0m\u001b[0;34m[\u001b[0m\u001b[0;34m\"F\"\u001b[0m\u001b[0;34m,\u001b[0m \u001b[0;34m\"C\"\u001b[0m\u001b[0;34m]\u001b[0m \u001b[0;34m=\u001b[0m \u001b[0;34m\"F\"\u001b[0m \u001b[0;32mif\u001b[0m \u001b[0mflags\u001b[0m\u001b[0;34m.\u001b[0m\u001b[0mf_contiguous\u001b[0m \u001b[0;32melse\u001b[0m \u001b[0;34m\"C\"\u001b[0m\u001b[0;34m\u001b[0m\u001b[0;34m\u001b[0m\u001b[0m\n\u001b[1;32m   2174\u001b[0m     \u001b[0;32mtry\u001b[0m\u001b[0;34m:\u001b[0m\u001b[0;34m\u001b[0m\u001b[0;34m\u001b[0m\u001b[0m\n\u001b[0;32m-> 2175\u001b[0;31m         result, tz_parsed = tslib.array_to_datetime(\n\u001b[0m\u001b[1;32m   2176\u001b[0m             \u001b[0mdata\u001b[0m\u001b[0;34m.\u001b[0m\u001b[0mravel\u001b[0m\u001b[0;34m(\u001b[0m\u001b[0;34m\"K\"\u001b[0m\u001b[0;34m)\u001b[0m\u001b[0;34m,\u001b[0m\u001b[0;34m\u001b[0m\u001b[0;34m\u001b[0m\u001b[0m\n\u001b[1;32m   2177\u001b[0m             \u001b[0merrors\u001b[0m\u001b[0;34m=\u001b[0m\u001b[0merrors\u001b[0m\u001b[0;34m,\u001b[0m\u001b[0;34m\u001b[0m\u001b[0;34m\u001b[0m\u001b[0m\n",
      "\u001b[0;32m~/.pyenv/versions/3.9.5/lib/python3.9/site-packages/pandas/_libs/tslib.pyx\u001b[0m in \u001b[0;36mpandas._libs.tslib.array_to_datetime\u001b[0;34m()\u001b[0m\n",
      "\u001b[0;32m~/.pyenv/versions/3.9.5/lib/python3.9/site-packages/pandas/_libs/tslib.pyx\u001b[0m in \u001b[0;36mpandas._libs.tslib.array_to_datetime\u001b[0;34m()\u001b[0m\n",
      "\u001b[0;32m~/.pyenv/versions/3.9.5/lib/python3.9/site-packages/pandas/_libs/tslib.pyx\u001b[0m in \u001b[0;36mpandas._libs.tslib._array_to_datetime_object\u001b[0;34m()\u001b[0m\n",
      "\u001b[0;32m~/.pyenv/versions/3.9.5/lib/python3.9/site-packages/pandas/_libs/tslib.pyx\u001b[0m in \u001b[0;36mpandas._libs.tslib._array_to_datetime_object\u001b[0;34m()\u001b[0m\n",
      "\u001b[0;32m~/.pyenv/versions/3.9.5/lib/python3.9/site-packages/pandas/_libs/tslibs/parsing.pyx\u001b[0m in \u001b[0;36mpandas._libs.tslibs.parsing.parse_datetime_string\u001b[0;34m()\u001b[0m\n",
      "\u001b[0;32m~/.pyenv/versions/3.9.5/lib/python3.9/site-packages/dateutil/parser/_parser.py\u001b[0m in \u001b[0;36mparse\u001b[0;34m(timestr, parserinfo, **kwargs)\u001b[0m\n\u001b[1;32m   1366\u001b[0m         \u001b[0;32mreturn\u001b[0m \u001b[0mparser\u001b[0m\u001b[0;34m(\u001b[0m\u001b[0mparserinfo\u001b[0m\u001b[0;34m)\u001b[0m\u001b[0;34m.\u001b[0m\u001b[0mparse\u001b[0m\u001b[0;34m(\u001b[0m\u001b[0mtimestr\u001b[0m\u001b[0;34m,\u001b[0m \u001b[0;34m**\u001b[0m\u001b[0mkwargs\u001b[0m\u001b[0;34m)\u001b[0m\u001b[0;34m\u001b[0m\u001b[0;34m\u001b[0m\u001b[0m\n\u001b[1;32m   1367\u001b[0m     \u001b[0;32melse\u001b[0m\u001b[0;34m:\u001b[0m\u001b[0;34m\u001b[0m\u001b[0;34m\u001b[0m\u001b[0m\n\u001b[0;32m-> 1368\u001b[0;31m         \u001b[0;32mreturn\u001b[0m \u001b[0mDEFAULTPARSER\u001b[0m\u001b[0;34m.\u001b[0m\u001b[0mparse\u001b[0m\u001b[0;34m(\u001b[0m\u001b[0mtimestr\u001b[0m\u001b[0;34m,\u001b[0m \u001b[0;34m**\u001b[0m\u001b[0mkwargs\u001b[0m\u001b[0;34m)\u001b[0m\u001b[0;34m\u001b[0m\u001b[0;34m\u001b[0m\u001b[0m\n\u001b[0m\u001b[1;32m   1369\u001b[0m \u001b[0;34m\u001b[0m\u001b[0m\n\u001b[1;32m   1370\u001b[0m \u001b[0;34m\u001b[0m\u001b[0m\n",
      "\u001b[0;32m~/.pyenv/versions/3.9.5/lib/python3.9/site-packages/dateutil/parser/_parser.py\u001b[0m in \u001b[0;36mparse\u001b[0;34m(self, timestr, default, ignoretz, tzinfos, **kwargs)\u001b[0m\n\u001b[1;32m    641\u001b[0m \u001b[0;34m\u001b[0m\u001b[0m\n\u001b[1;32m    642\u001b[0m         \u001b[0;32mif\u001b[0m \u001b[0mres\u001b[0m \u001b[0;32mis\u001b[0m \u001b[0;32mNone\u001b[0m\u001b[0;34m:\u001b[0m\u001b[0;34m\u001b[0m\u001b[0;34m\u001b[0m\u001b[0m\n\u001b[0;32m--> 643\u001b[0;31m             \u001b[0;32mraise\u001b[0m \u001b[0mParserError\u001b[0m\u001b[0;34m(\u001b[0m\u001b[0;34m\"Unknown string format: %s\"\u001b[0m\u001b[0;34m,\u001b[0m \u001b[0mtimestr\u001b[0m\u001b[0;34m)\u001b[0m\u001b[0;34m\u001b[0m\u001b[0;34m\u001b[0m\u001b[0m\n\u001b[0m\u001b[1;32m    644\u001b[0m \u001b[0;34m\u001b[0m\u001b[0m\n\u001b[1;32m    645\u001b[0m         \u001b[0;32mif\u001b[0m \u001b[0mlen\u001b[0m\u001b[0;34m(\u001b[0m\u001b[0mres\u001b[0m\u001b[0;34m)\u001b[0m \u001b[0;34m==\u001b[0m \u001b[0;36m0\u001b[0m\u001b[0;34m:\u001b[0m\u001b[0;34m\u001b[0m\u001b[0;34m\u001b[0m\u001b[0m\n",
      "\u001b[0;31mParserError\u001b[0m: Unknown string format: 2012-07-01T00:00:00.000 2021-10-15 10:40:00"
     ]
    }
   ],
   "metadata": {}
  },
  {
   "cell_type": "markdown",
   "source": [
    "# Adding Features\n",
    "\n",
    "If we want to find the answers to some of Michael's questions we first need to include additional features in our result-set. "
   ],
   "metadata": {}
  },
  {
   "cell_type": "code",
   "execution_count": null,
   "source": [
    "collision_df['year'] = collision_df['']"
   ],
   "outputs": [],
   "metadata": {}
  },
  {
   "cell_type": "markdown",
   "source": [
    "# Graphing"
   ],
   "metadata": {}
  },
  {
   "cell_type": "code",
   "execution_count": 31,
   "source": [
    "%matplotlib inline\n",
    "def plot_distributions(data):\n",
    "    \n",
    "    ds = data[[c for c in data.columns if c not in ['day','year','month','dow','date','TMAX','TMIN','SNWD','PRCP','IsWeekend']]]\n",
    "    c = 3\n",
    "    r = math.ceil(len(ds.columns) / c)\n",
    "    \n",
    "    sns.set_style('white')\n",
    "    plt.figure(figsize=(15,25))\n",
    "    for i in range(0, len(ds.columns)):\n",
    "        ax = plt.subplot(r, c, i+1)\n",
    "        d = ds.iloc[:, i].dropna()\n",
    "        m = int(d.max())\n",
    "\n",
    "        bins = list(range(0, m, 1 if m<50 else 5))\n",
    "        sns.distplot(d, ax=ax, bins=bins, hist_kws={'rwidth': 0.8})\n",
    "        \n",
    "    plt.subplots_adjust(hspace=0.5)\n",
    "    plt.savefig('nypd_daily_records_dist.jpg', dpi=80)\n",
    "    \n",
    "plot_distributions(pvt_fixed)"
   ],
   "outputs": [
    {
     "output_type": "error",
     "ename": "NameError",
     "evalue": "name 'pvt_fixed' is not defined",
     "traceback": [
      "\u001b[0;31m---------------------------------------------------------------------------\u001b[0m",
      "\u001b[0;31mNameError\u001b[0m                                 Traceback (most recent call last)",
      "\u001b[0;32m/var/folders/x_/s700z8zn2yb_tphnyd_vqg900000gn/T/ipykernel_91160/2466445808.py\u001b[0m in \u001b[0;36m<module>\u001b[0;34m\u001b[0m\n\u001b[1;32m     19\u001b[0m     \u001b[0mplt\u001b[0m\u001b[0;34m.\u001b[0m\u001b[0msavefig\u001b[0m\u001b[0;34m(\u001b[0m\u001b[0;34m'nypd_daily_records_dist.jpg'\u001b[0m\u001b[0;34m,\u001b[0m \u001b[0mdpi\u001b[0m\u001b[0;34m=\u001b[0m\u001b[0;36m80\u001b[0m\u001b[0;34m)\u001b[0m\u001b[0;34m\u001b[0m\u001b[0;34m\u001b[0m\u001b[0m\n\u001b[1;32m     20\u001b[0m \u001b[0;34m\u001b[0m\u001b[0m\n\u001b[0;32m---> 21\u001b[0;31m \u001b[0mplot_distributions\u001b[0m\u001b[0;34m(\u001b[0m\u001b[0mpvt_fixed\u001b[0m\u001b[0;34m)\u001b[0m\u001b[0;34m\u001b[0m\u001b[0;34m\u001b[0m\u001b[0m\n\u001b[0m",
      "\u001b[0;31mNameError\u001b[0m: name 'pvt_fixed' is not defined"
     ]
    }
   ],
   "metadata": {}
  },
  {
   "cell_type": "code",
   "execution_count": null,
   "source": [],
   "outputs": [],
   "metadata": {}
  },
  {
   "cell_type": "code",
   "execution_count": null,
   "source": [],
   "outputs": [],
   "metadata": {}
  },
  {
   "cell_type": "code",
   "execution_count": null,
   "source": [],
   "outputs": [],
   "metadata": {}
  },
  {
   "cell_type": "code",
   "execution_count": 8,
   "source": [
    "data = dt.Frame(collision_df)"
   ],
   "outputs": [],
   "metadata": {}
  },
  {
   "cell_type": "code",
   "execution_count": 9,
   "source": [
    "collision_df.head().T"
   ],
   "outputs": [
    {
     "output_type": "execute_result",
     "data": {
      "text/html": [
       "<div>\n",
       "<style scoped>\n",
       "    .dataframe tbody tr th:only-of-type {\n",
       "        vertical-align: middle;\n",
       "    }\n",
       "\n",
       "    .dataframe tbody tr th {\n",
       "        vertical-align: top;\n",
       "    }\n",
       "\n",
       "    .dataframe thead th {\n",
       "        text-align: right;\n",
       "    }\n",
       "</style>\n",
       "<table border=\"1\" class=\"dataframe\">\n",
       "  <thead>\n",
       "    <tr style=\"text-align: right;\">\n",
       "      <th></th>\n",
       "      <th>0</th>\n",
       "      <th>1</th>\n",
       "      <th>2</th>\n",
       "      <th>3</th>\n",
       "      <th>4</th>\n",
       "    </tr>\n",
       "  </thead>\n",
       "  <tbody>\n",
       "    <tr>\n",
       "      <th>crash_date_time</th>\n",
       "      <td>2012-07-01T00:00:00.000 2021-10-15 10:40:00</td>\n",
       "      <td>2012-07-01T00:00:00.000 2021-10-15 12:18:00</td>\n",
       "      <td>2012-07-01T00:00:00.000 2021-10-15 15:00:00</td>\n",
       "      <td>2012-07-01T00:00:00.000 2021-10-15 18:00:00</td>\n",
       "      <td>2012-07-01T00:00:00.000 2021-10-15 19:30:00</td>\n",
       "    </tr>\n",
       "    <tr>\n",
       "      <th>Unnamed: 0</th>\n",
       "      <td>0</td>\n",
       "      <td>1</td>\n",
       "      <td>2</td>\n",
       "      <td>3</td>\n",
       "      <td>4</td>\n",
       "    </tr>\n",
       "    <tr>\n",
       "      <th>borough</th>\n",
       "      <td>MANHATTAN</td>\n",
       "      <td>MANHATTAN</td>\n",
       "      <td>NaN</td>\n",
       "      <td>MANHATTAN</td>\n",
       "      <td>MANHATTAN</td>\n",
       "    </tr>\n",
       "    <tr>\n",
       "      <th>zip_code</th>\n",
       "      <td>10013.0</td>\n",
       "      <td>10004.0</td>\n",
       "      <td>NaN</td>\n",
       "      <td>10007.0</td>\n",
       "      <td>10013.0</td>\n",
       "    </tr>\n",
       "    <tr>\n",
       "      <th>latitude</th>\n",
       "      <td>40.720854</td>\n",
       "      <td>40.704799</td>\n",
       "      <td>NaN</td>\n",
       "      <td>40.713692</td>\n",
       "      <td>40.719058</td>\n",
       "    </tr>\n",
       "    <tr>\n",
       "      <th>longitude</th>\n",
       "      <td>-74.003929</td>\n",
       "      <td>-74.016685</td>\n",
       "      <td>NaN</td>\n",
       "      <td>-74.013754</td>\n",
       "      <td>-74.012442</td>\n",
       "    </tr>\n",
       "    <tr>\n",
       "      <th>location</th>\n",
       "      <td>{'latitude': '40.7208537', 'longitude': '-74.0...</td>\n",
       "      <td>{'latitude': '40.7047985', 'longitude': '-74.0...</td>\n",
       "      <td>NaN</td>\n",
       "      <td>{'latitude': '40.7136919', 'longitude': '-74.0...</td>\n",
       "      <td>{'latitude': '40.719058', 'longitude': '-74.01...</td>\n",
       "    </tr>\n",
       "    <tr>\n",
       "      <th>on_street_name</th>\n",
       "      <td>CANAL STREET</td>\n",
       "      <td>BATTERY PLACE</td>\n",
       "      <td>WATER STREET</td>\n",
       "      <td>WEST STREET</td>\n",
       "      <td>WEST STREET</td>\n",
       "    </tr>\n",
       "    <tr>\n",
       "      <th>off_street_name</th>\n",
       "      <td>WOOSTER STREET</td>\n",
       "      <td>WEST STREET</td>\n",
       "      <td>OLD SLIP</td>\n",
       "      <td>VESEY STREET</td>\n",
       "      <td>HARRISON STREET</td>\n",
       "    </tr>\n",
       "    <tr>\n",
       "      <th>number_of_persons_injured</th>\n",
       "      <td>0.0</td>\n",
       "      <td>0.0</td>\n",
       "      <td>0.0</td>\n",
       "      <td>0.0</td>\n",
       "      <td>0.0</td>\n",
       "    </tr>\n",
       "    <tr>\n",
       "      <th>number_of_persons_killed</th>\n",
       "      <td>0.0</td>\n",
       "      <td>0.0</td>\n",
       "      <td>0.0</td>\n",
       "      <td>0.0</td>\n",
       "      <td>0.0</td>\n",
       "    </tr>\n",
       "    <tr>\n",
       "      <th>number_of_pedestrians_injured</th>\n",
       "      <td>0</td>\n",
       "      <td>0</td>\n",
       "      <td>0</td>\n",
       "      <td>0</td>\n",
       "      <td>0</td>\n",
       "    </tr>\n",
       "    <tr>\n",
       "      <th>number_of_pedestrians_killed</th>\n",
       "      <td>0</td>\n",
       "      <td>0</td>\n",
       "      <td>0</td>\n",
       "      <td>0</td>\n",
       "      <td>0</td>\n",
       "    </tr>\n",
       "    <tr>\n",
       "      <th>number_of_cyclist_injured</th>\n",
       "      <td>0</td>\n",
       "      <td>0</td>\n",
       "      <td>0</td>\n",
       "      <td>0</td>\n",
       "      <td>0</td>\n",
       "    </tr>\n",
       "    <tr>\n",
       "      <th>number_of_cyclist_killed</th>\n",
       "      <td>0</td>\n",
       "      <td>0</td>\n",
       "      <td>0</td>\n",
       "      <td>0</td>\n",
       "      <td>0</td>\n",
       "    </tr>\n",
       "    <tr>\n",
       "      <th>number_of_motorist_injured</th>\n",
       "      <td>0</td>\n",
       "      <td>0</td>\n",
       "      <td>0</td>\n",
       "      <td>0</td>\n",
       "      <td>0</td>\n",
       "    </tr>\n",
       "    <tr>\n",
       "      <th>number_of_motorist_killed</th>\n",
       "      <td>0</td>\n",
       "      <td>0</td>\n",
       "      <td>0</td>\n",
       "      <td>0</td>\n",
       "      <td>0</td>\n",
       "    </tr>\n",
       "    <tr>\n",
       "      <th>contributing_factor_vehicle_1</th>\n",
       "      <td>Unspecified</td>\n",
       "      <td>Unspecified</td>\n",
       "      <td>Oversized Vehicle</td>\n",
       "      <td>Driver Inattention/Distraction</td>\n",
       "      <td>Driver Inattention/Distraction</td>\n",
       "    </tr>\n",
       "    <tr>\n",
       "      <th>contributing_factor_vehicle_2</th>\n",
       "      <td>Unspecified</td>\n",
       "      <td>Unspecified</td>\n",
       "      <td>Unspecified</td>\n",
       "      <td>Unspecified</td>\n",
       "      <td>Unspecified</td>\n",
       "    </tr>\n",
       "    <tr>\n",
       "      <th>collision_id</th>\n",
       "      <td>22</td>\n",
       "      <td>23</td>\n",
       "      <td>24</td>\n",
       "      <td>25</td>\n",
       "      <td>26</td>\n",
       "    </tr>\n",
       "    <tr>\n",
       "      <th>vehicle_type_code1</th>\n",
       "      <td>SPORT UTILITY / STATION WAGON</td>\n",
       "      <td>TAXI</td>\n",
       "      <td>BUS</td>\n",
       "      <td>PASSENGER VEHICLE</td>\n",
       "      <td>PASSENGER VEHICLE</td>\n",
       "    </tr>\n",
       "    <tr>\n",
       "      <th>vehicle_type_code2</th>\n",
       "      <td>VAN</td>\n",
       "      <td>TAXI</td>\n",
       "      <td>PASSENGER VEHICLE</td>\n",
       "      <td>PASSENGER VEHICLE</td>\n",
       "      <td>PASSENGER VEHICLE</td>\n",
       "    </tr>\n",
       "    <tr>\n",
       "      <th>contributing_factor_vehicle_3</th>\n",
       "      <td>NaN</td>\n",
       "      <td>NaN</td>\n",
       "      <td>NaN</td>\n",
       "      <td>NaN</td>\n",
       "      <td>NaN</td>\n",
       "    </tr>\n",
       "    <tr>\n",
       "      <th>vehicle_type_code_3</th>\n",
       "      <td>NaN</td>\n",
       "      <td>NaN</td>\n",
       "      <td>NaN</td>\n",
       "      <td>NaN</td>\n",
       "      <td>NaN</td>\n",
       "    </tr>\n",
       "    <tr>\n",
       "      <th>cross_street_name</th>\n",
       "      <td>NaN</td>\n",
       "      <td>NaN</td>\n",
       "      <td>NaN</td>\n",
       "      <td>NaN</td>\n",
       "      <td>NaN</td>\n",
       "    </tr>\n",
       "    <tr>\n",
       "      <th>contributing_factor_vehicle_4</th>\n",
       "      <td>NaN</td>\n",
       "      <td>NaN</td>\n",
       "      <td>NaN</td>\n",
       "      <td>NaN</td>\n",
       "      <td>NaN</td>\n",
       "    </tr>\n",
       "    <tr>\n",
       "      <th>contributing_factor_vehicle_5</th>\n",
       "      <td>NaN</td>\n",
       "      <td>NaN</td>\n",
       "      <td>NaN</td>\n",
       "      <td>NaN</td>\n",
       "      <td>NaN</td>\n",
       "    </tr>\n",
       "    <tr>\n",
       "      <th>vehicle_type_code_4</th>\n",
       "      <td>NaN</td>\n",
       "      <td>NaN</td>\n",
       "      <td>NaN</td>\n",
       "      <td>NaN</td>\n",
       "      <td>NaN</td>\n",
       "    </tr>\n",
       "    <tr>\n",
       "      <th>vehicle_type_code_5</th>\n",
       "      <td>NaN</td>\n",
       "      <td>NaN</td>\n",
       "      <td>NaN</td>\n",
       "      <td>NaN</td>\n",
       "      <td>NaN</td>\n",
       "    </tr>\n",
       "  </tbody>\n",
       "</table>\n",
       "</div>"
      ],
      "text/plain": [
       "                                                                               0  \\\n",
       "crash_date_time                      2012-07-01T00:00:00.000 2021-10-15 10:40:00   \n",
       "Unnamed: 0                                                                     0   \n",
       "borough                                                                MANHATTAN   \n",
       "zip_code                                                                 10013.0   \n",
       "latitude                                                               40.720854   \n",
       "longitude                                                             -74.003929   \n",
       "location                       {'latitude': '40.7208537', 'longitude': '-74.0...   \n",
       "on_street_name                                  CANAL STREET                       \n",
       "off_street_name                                 WOOSTER STREET                     \n",
       "number_of_persons_injured                                                    0.0   \n",
       "number_of_persons_killed                                                     0.0   \n",
       "number_of_pedestrians_injured                                                  0   \n",
       "number_of_pedestrians_killed                                                   0   \n",
       "number_of_cyclist_injured                                                      0   \n",
       "number_of_cyclist_killed                                                       0   \n",
       "number_of_motorist_injured                                                     0   \n",
       "number_of_motorist_killed                                                      0   \n",
       "contributing_factor_vehicle_1                                        Unspecified   \n",
       "contributing_factor_vehicle_2                                        Unspecified   \n",
       "collision_id                                                                  22   \n",
       "vehicle_type_code1                                 SPORT UTILITY / STATION WAGON   \n",
       "vehicle_type_code2                                                           VAN   \n",
       "contributing_factor_vehicle_3                                                NaN   \n",
       "vehicle_type_code_3                                                          NaN   \n",
       "cross_street_name                                                            NaN   \n",
       "contributing_factor_vehicle_4                                                NaN   \n",
       "contributing_factor_vehicle_5                                                NaN   \n",
       "vehicle_type_code_4                                                          NaN   \n",
       "vehicle_type_code_5                                                          NaN   \n",
       "\n",
       "                                                                               1  \\\n",
       "crash_date_time                      2012-07-01T00:00:00.000 2021-10-15 12:18:00   \n",
       "Unnamed: 0                                                                     1   \n",
       "borough                                                                MANHATTAN   \n",
       "zip_code                                                                 10004.0   \n",
       "latitude                                                               40.704799   \n",
       "longitude                                                             -74.016685   \n",
       "location                       {'latitude': '40.7047985', 'longitude': '-74.0...   \n",
       "on_street_name                                  BATTERY PLACE                      \n",
       "off_street_name                                 WEST STREET                        \n",
       "number_of_persons_injured                                                    0.0   \n",
       "number_of_persons_killed                                                     0.0   \n",
       "number_of_pedestrians_injured                                                  0   \n",
       "number_of_pedestrians_killed                                                   0   \n",
       "number_of_cyclist_injured                                                      0   \n",
       "number_of_cyclist_killed                                                       0   \n",
       "number_of_motorist_injured                                                     0   \n",
       "number_of_motorist_killed                                                      0   \n",
       "contributing_factor_vehicle_1                                        Unspecified   \n",
       "contributing_factor_vehicle_2                                        Unspecified   \n",
       "collision_id                                                                  23   \n",
       "vehicle_type_code1                                                          TAXI   \n",
       "vehicle_type_code2                                                          TAXI   \n",
       "contributing_factor_vehicle_3                                                NaN   \n",
       "vehicle_type_code_3                                                          NaN   \n",
       "cross_street_name                                                            NaN   \n",
       "contributing_factor_vehicle_4                                                NaN   \n",
       "contributing_factor_vehicle_5                                                NaN   \n",
       "vehicle_type_code_4                                                          NaN   \n",
       "vehicle_type_code_5                                                          NaN   \n",
       "\n",
       "                                                                         2  \\\n",
       "crash_date_time                2012-07-01T00:00:00.000 2021-10-15 15:00:00   \n",
       "Unnamed: 0                                                               2   \n",
       "borough                                                                NaN   \n",
       "zip_code                                                               NaN   \n",
       "latitude                                                               NaN   \n",
       "longitude                                                              NaN   \n",
       "location                                                               NaN   \n",
       "on_street_name                            WATER STREET                       \n",
       "off_street_name                           OLD SLIP                           \n",
       "number_of_persons_injured                                              0.0   \n",
       "number_of_persons_killed                                               0.0   \n",
       "number_of_pedestrians_injured                                            0   \n",
       "number_of_pedestrians_killed                                             0   \n",
       "number_of_cyclist_injured                                                0   \n",
       "number_of_cyclist_killed                                                 0   \n",
       "number_of_motorist_injured                                               0   \n",
       "number_of_motorist_killed                                                0   \n",
       "contributing_factor_vehicle_1                            Oversized Vehicle   \n",
       "contributing_factor_vehicle_2                                  Unspecified   \n",
       "collision_id                                                            24   \n",
       "vehicle_type_code1                                                     BUS   \n",
       "vehicle_type_code2                                       PASSENGER VEHICLE   \n",
       "contributing_factor_vehicle_3                                          NaN   \n",
       "vehicle_type_code_3                                                    NaN   \n",
       "cross_street_name                                                      NaN   \n",
       "contributing_factor_vehicle_4                                          NaN   \n",
       "contributing_factor_vehicle_5                                          NaN   \n",
       "vehicle_type_code_4                                                    NaN   \n",
       "vehicle_type_code_5                                                    NaN   \n",
       "\n",
       "                                                                               3  \\\n",
       "crash_date_time                      2012-07-01T00:00:00.000 2021-10-15 18:00:00   \n",
       "Unnamed: 0                                                                     3   \n",
       "borough                                                                MANHATTAN   \n",
       "zip_code                                                                 10007.0   \n",
       "latitude                                                               40.713692   \n",
       "longitude                                                             -74.013754   \n",
       "location                       {'latitude': '40.7136919', 'longitude': '-74.0...   \n",
       "on_street_name                                  WEST STREET                        \n",
       "off_street_name                                 VESEY STREET                       \n",
       "number_of_persons_injured                                                    0.0   \n",
       "number_of_persons_killed                                                     0.0   \n",
       "number_of_pedestrians_injured                                                  0   \n",
       "number_of_pedestrians_killed                                                   0   \n",
       "number_of_cyclist_injured                                                      0   \n",
       "number_of_cyclist_killed                                                       0   \n",
       "number_of_motorist_injured                                                     0   \n",
       "number_of_motorist_killed                                                      0   \n",
       "contributing_factor_vehicle_1                     Driver Inattention/Distraction   \n",
       "contributing_factor_vehicle_2                                        Unspecified   \n",
       "collision_id                                                                  25   \n",
       "vehicle_type_code1                                             PASSENGER VEHICLE   \n",
       "vehicle_type_code2                                             PASSENGER VEHICLE   \n",
       "contributing_factor_vehicle_3                                                NaN   \n",
       "vehicle_type_code_3                                                          NaN   \n",
       "cross_street_name                                                            NaN   \n",
       "contributing_factor_vehicle_4                                                NaN   \n",
       "contributing_factor_vehicle_5                                                NaN   \n",
       "vehicle_type_code_4                                                          NaN   \n",
       "vehicle_type_code_5                                                          NaN   \n",
       "\n",
       "                                                                               4  \n",
       "crash_date_time                      2012-07-01T00:00:00.000 2021-10-15 19:30:00  \n",
       "Unnamed: 0                                                                     4  \n",
       "borough                                                                MANHATTAN  \n",
       "zip_code                                                                 10013.0  \n",
       "latitude                                                               40.719058  \n",
       "longitude                                                             -74.012442  \n",
       "location                       {'latitude': '40.719058', 'longitude': '-74.01...  \n",
       "on_street_name                                  WEST STREET                       \n",
       "off_street_name                                 HARRISON STREET                   \n",
       "number_of_persons_injured                                                    0.0  \n",
       "number_of_persons_killed                                                     0.0  \n",
       "number_of_pedestrians_injured                                                  0  \n",
       "number_of_pedestrians_killed                                                   0  \n",
       "number_of_cyclist_injured                                                      0  \n",
       "number_of_cyclist_killed                                                       0  \n",
       "number_of_motorist_injured                                                     0  \n",
       "number_of_motorist_killed                                                      0  \n",
       "contributing_factor_vehicle_1                     Driver Inattention/Distraction  \n",
       "contributing_factor_vehicle_2                                        Unspecified  \n",
       "collision_id                                                                  26  \n",
       "vehicle_type_code1                                             PASSENGER VEHICLE  \n",
       "vehicle_type_code2                                             PASSENGER VEHICLE  \n",
       "contributing_factor_vehicle_3                                                NaN  \n",
       "vehicle_type_code_3                                                          NaN  \n",
       "cross_street_name                                                            NaN  \n",
       "contributing_factor_vehicle_4                                                NaN  \n",
       "contributing_factor_vehicle_5                                                NaN  \n",
       "vehicle_type_code_4                                                          NaN  \n",
       "vehicle_type_code_5                                                          NaN  "
      ]
     },
     "metadata": {},
     "execution_count": 9
    }
   ],
   "metadata": {}
  },
  {
   "cell_type": "markdown",
   "source": [
    "1. Average number of accidents by month by borough\n",
    "2. What are the most dangerous hours of the day for pedestrians?\n",
    "3. Year with most accidents?\n",
    "4. Visualize data\n",
    "5. Any other insights we find, data quality"
   ],
   "metadata": {}
  }
 ],
 "metadata": {
  "orig_nbformat": 4,
  "language_info": {
   "name": "python",
   "version": "3.9.5",
   "mimetype": "text/x-python",
   "codemirror_mode": {
    "name": "ipython",
    "version": 3
   },
   "pygments_lexer": "ipython3",
   "nbconvert_exporter": "python",
   "file_extension": ".py"
  },
  "kernelspec": {
   "name": "python3",
   "display_name": "Python 3.9.5 64-bit ('3.9.5': pyenv)"
  },
  "interpreter": {
   "hash": "fdd338dfa850261f035b26e14a7286b8675656f858c7969cf6cbcb21f8762763"
  }
 },
 "nbformat": 4,
 "nbformat_minor": 2
}