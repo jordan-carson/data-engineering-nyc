{
 "cells": [
  {
   "cell_type": "markdown",
   "source": [
    "# AI Engineering @JPM\n",
    "\n",
    "For this project and questionaire - we received the following:\n",
    "\n",
    "## Part A: Download and Process data\n",
    "\n",
    "Download (via an API call) and analyze data\n",
    "https://data.cityofnewyork.us/Public-Safety/Motor-Vehicle-Collisions-Crashes/h9gi-nx95\n",
    " \n",
    "Note, this dataset has 1.83 million rows\n",
    "\n",
    "For part A, we will be using the `requests` library to pull data. The below is pulled directly from the documentation for refrence:\n",
    "\n",
    "### API Documentation \n",
    "\n",
    "#### Getting Started\n",
    "All communication with the API is done through HTTPS, and errors are communicated through HTTP response codes. Available response types include JSON (including GeoJSON), XML, and CSV, which are selectable by the \"extension\" (.json, etc.) on the API endpoint or through content-negotiation with HTTP Accepts headers.\n",
    "\n",
    "This documentation also includes inline, runable examples. Click on any link that contains a  gear symbol next to it to run that example live against the Motor Vehicle Collisions - Crashes API. If you just want to grab the API endpoint and go, you'll find it below.\n",
    "\n",
    "#### Tokens\n",
    "\n",
    "All requests should include an app token that identifies your application, and each application should have its own unique app token. A limited number of requests can be made without an app token, but they are subject to much lower throttling limits than request that do include one. With an app token, your application is guaranteed access to it's own pool of requests. If you don't have an app token yet, click the button to the right to sign up for one.\n",
    "\n",
    "Once you have an app token, you can include it with your request either by using the X-App-Token HTTP header, or by passing it via the $$app_token parameter on your URL.\n",
    "\n",
    "**The above tells us a few important points:**\n",
    "1. All API calls are done via HTTPS and errors are communicated through HTTP response codes. A response code between 200-299 indicates a successful connection, 300-399 are redirection messages, and 400-499 are client error responses. Typically a response of 200 indicates a success, while a 401/403 indicates an error with our client - either how we are communicating or the API Key ID/ Secret are no longer valid.\n",
    "\n",
    "2. We need to use {'X-App-Token': SECRET} as our headers to pass to our GET request.\n",
    "\n",
    "## Alternatives\n",
    "If this does not work, we have found a few alternatives:\n",
    "- We can perform a curl request to pull all data\n",
    "\n",
    "## Part B: Analysis\n",
    " \n",
    "Analysis areas to consider:\n",
    "Average number of accident by month by borough\n",
    "What are the most dangerous hours of the day for pedestrians?\n",
    "Year with most accidents\n",
    "Visualize data\n",
    "Any other insights you can find, including data quality\n"
   ],
   "metadata": {}
  },
  {
   "cell_type": "markdown",
   "source": [
    "Deciding to use a CURL request to get the json data"
   ],
   "metadata": {}
  },
  {
   "cell_type": "code",
   "execution_count": 12,
   "source": [
    "# headers = {'Content-Type:application/json'}\n",
    "import pandas as pd\n",
    "df = pd.read_json('crashes.json')"
   ],
   "outputs": [],
   "metadata": {}
  },
  {
   "cell_type": "markdown",
   "source": [
    "# API Documentation \n",
    "\n",
    "## Getting Started\n",
    "All communication with the API is done through HTTPS, and errors are communicated through HTTP response codes. Available response types include JSON (including GeoJSON), XML, and CSV, which are selectable by the \"extension\" (.json, etc.) on the API endpoint or through content-negotiation with HTTP Accepts headers.\n",
    "\n",
    "This documentation also includes inline, runable examples. Click on any link that contains a  gear symbol next to it to run that example live against the Motor Vehicle Collisions - Crashes API. If you just want to grab the API endpoint and go, you'll find it below.\n",
    "\n",
    "## Tokens\n",
    "\n",
    "All requests should include an app token that identifies your application, and each application should have its own unique app token. A limited number of requests can be made without an app token, but they are subject to much lower throttling limits than request that do include one. With an app token, your application is guaranteed access to it's own pool of requests. If you don't have an app token yet, click the button to the right to sign up for one.\n",
    "\n",
    "Once you have an app token, you can include it with your request either by using the X-App-Token HTTP header, or by passing it via the $$app_token parameter on your URL.\n",
    "\n",
    "The above tells us a few important points:\n",
    "1. All API calls are done via HTTPS and errors are communicated through HTTP response codes. A response code between 200-299 indicates a successful connection, 300-399 are redirection messages, and 400-499 are client error responses. Typically a response of 200 indicates a success, while a 401/403 indicates an error with our client - either how we are communicating or the API Key ID/ Secret are no longer valid.\n",
    "\n",
    "2. We need to use {'X-App-Token': SECRET} as our headers to pass to our GET request."
   ],
   "metadata": {}
  },
  {
   "cell_type": "markdown",
   "source": [
    "The above tells us a few important points:\n",
    "1. All API calls are done via HTTPS and errors are communicated through HTTP response codes. A response code between 200-299 indicates a successful connection, 300-399 are redirection messages, and 400-499 are client error responses. Typically a response of 200 indicates a success, while a 401/403 indicates an error with our client - either how we are communicating or the API Key ID/ Secret are no longer valid.\n",
    "\n",
    "2. We need to use {'X-App-Token': SECRET} as our headers to pass to our GET request."
   ],
   "metadata": {}
  },
  {
   "cell_type": "markdown",
   "source": [],
   "metadata": {}
  },
  {
   "cell_type": "code",
   "execution_count": 14,
   "source": [
    "# headers={'X-App-Token': NYC_OPEN_DATA_API_SECRET}\n",
    "# result = requests.get(NYC_OPEN_DATA_API_ENDPOINT, headers=headers)\n",
    "# result.json()\n",
    "import datatable as dt\n",
    "from datatable import f, by\n",
    "data = dt.fread('mvc_crashes_data.csv')"
   ],
   "outputs": [],
   "metadata": {}
  },
  {
   "cell_type": "code",
   "execution_count": 18,
   "source": [
    "type(data)"
   ],
   "outputs": [
    {
     "output_type": "execute_result",
     "data": {
      "text/plain": [
       "datatable.Frame"
      ]
     },
     "metadata": {},
     "execution_count": 18
    }
   ],
   "metadata": {}
  },
  {
   "cell_type": "code",
   "execution_count": 22,
   "source": [
    "def print_datatypes(dt: dt.Frame) -> dict: # \n",
    "    return dict(zip(dt.names, dt.stypes))\n"
   ],
   "outputs": [],
   "metadata": {}
  },
  {
   "cell_type": "code",
   "execution_count": 23,
   "source": [
    "print_datatypes(data)"
   ],
   "outputs": [
    {
     "output_type": "execute_result",
     "data": {
      "text/plain": [
       "{'CRASH DATE': stype.str32,\n",
       " 'CRASH TIME': stype.str32,\n",
       " 'BOROUGH': stype.str32,\n",
       " 'ZIP CODE': stype.int32,\n",
       " 'LATITUDE': stype.float64,\n",
       " 'LONGITUDE': stype.float64,\n",
       " 'LOCATION': stype.str32,\n",
       " 'ON STREET NAME': stype.str32,\n",
       " 'CROSS STREET NAME': stype.str32,\n",
       " 'OFF STREET NAME': stype.str32,\n",
       " 'NUMBER OF PERSONS INJURED': stype.int32,\n",
       " 'NUMBER OF PERSONS KILLED': stype.int32,\n",
       " 'NUMBER OF PEDESTRIANS INJURED': stype.int32,\n",
       " 'NUMBER OF PEDESTRIANS KILLED': stype.int32,\n",
       " 'NUMBER OF CYCLIST INJURED': stype.int32,\n",
       " 'NUMBER OF CYCLIST KILLED': stype.int32,\n",
       " 'NUMBER OF MOTORIST INJURED': stype.int32,\n",
       " 'NUMBER OF MOTORIST KILLED': stype.int32,\n",
       " 'CONTRIBUTING FACTOR VEHICLE 1': stype.str32,\n",
       " 'CONTRIBUTING FACTOR VEHICLE 2': stype.str32,\n",
       " 'CONTRIBUTING FACTOR VEHICLE 3': stype.str32,\n",
       " 'CONTRIBUTING FACTOR VEHICLE 4': stype.str32,\n",
       " 'CONTRIBUTING FACTOR VEHICLE 5': stype.str32,\n",
       " 'COLLISION_ID': stype.int32,\n",
       " 'VEHICLE TYPE CODE 1': stype.str32,\n",
       " 'VEHICLE TYPE CODE 2': stype.str32,\n",
       " 'VEHICLE TYPE CODE 3': stype.str32,\n",
       " 'VEHICLE TYPE CODE 4': stype.str32,\n",
       " 'VEHICLE TYPE CODE 5': stype.str32}"
      ]
     },
     "metadata": {},
     "execution_count": 23
    }
   ],
   "metadata": {}
  },
  {
   "cell_type": "code",
   "execution_count": 27,
   "source": [
    "# printing the top 10 results\n",
    "data.head(10)"
   ],
   "outputs": [
    {
     "output_type": "execute_result",
     "data": {
      "text/html": [
       "<div class='datatable'>\n",
       "  <table class='frame'>\n",
       "  <thead>\n",
       "    <tr class='colnames'><td class='row_index'></td><th>CRASH DATE</th><th>CRASH TIME</th><th>BOROUGH</th><th>ZIP CODE</th><th>LATITUDE</th><th>LONGITUDE</th><th>LOCATION</th><th>ON STREET NAME</th><th>CROSS STREET NAME</th><th>OFF STREET NAME</th><th class='vellipsis'>&hellip;</th><th>VEHICLE TYPE CODE 1</th><th>VEHICLE TYPE CODE 2</th><th>VEHICLE TYPE CODE 3</th><th>VEHICLE TYPE CODE 4</th><th>VEHICLE TYPE CODE 5</th></tr>\n",
       "    <tr class='coltypes'><td class='row_index'></td><td class='str' title='str32'>&#x25AA;&#x25AA;&#x25AA;&#x25AA;</td><td class='str' title='str32'>&#x25AA;&#x25AA;&#x25AA;&#x25AA;</td><td class='str' title='str32'>&#x25AA;&#x25AA;&#x25AA;&#x25AA;</td><td class='int' title='int32'>&#x25AA;&#x25AA;&#x25AA;&#x25AA;</td><td class='float' title='float64'>&#x25AA;&#x25AA;&#x25AA;&#x25AA;&#x25AA;&#x25AA;&#x25AA;&#x25AA;</td><td class='float' title='float64'>&#x25AA;&#x25AA;&#x25AA;&#x25AA;&#x25AA;&#x25AA;&#x25AA;&#x25AA;</td><td class='str' title='str32'>&#x25AA;&#x25AA;&#x25AA;&#x25AA;</td><td class='str' title='str32'>&#x25AA;&#x25AA;&#x25AA;&#x25AA;</td><td class='str' title='str32'>&#x25AA;&#x25AA;&#x25AA;&#x25AA;</td><td class='str' title='str32'>&#x25AA;&#x25AA;&#x25AA;&#x25AA;</td><td></td><td class='str' title='str32'>&#x25AA;&#x25AA;&#x25AA;&#x25AA;</td><td class='str' title='str32'>&#x25AA;&#x25AA;&#x25AA;&#x25AA;</td><td class='str' title='str32'>&#x25AA;&#x25AA;&#x25AA;&#x25AA;</td><td class='str' title='str32'>&#x25AA;&#x25AA;&#x25AA;&#x25AA;</td><td class='str' title='str32'>&#x25AA;&#x25AA;&#x25AA;&#x25AA;</td></tr>\n",
       "  </thead>\n",
       "  <tbody>\n",
       "    <tr><td class='row_index'>0</td><td>04/14/2021</td><td>5:32</td><td></td><td><span class=na>NA</span></td><td><span class=na>NA</span></td><td><span class=na>NA</span></td><td></td><td>BRONX WHITESTONE BRIDGE</td><td></td><td></td><td class=vellipsis>&hellip;</td><td>Sedan</td><td>Sedan</td><td></td><td></td><td></td></tr>\n",
       "    <tr><td class='row_index'>1</td><td>04/13/2021</td><td>21:35</td><td>BROOKLYN</td><td>11217</td><td>40.6836</td><td>&minus;73.9762</td><td>(40.68358, -73.97617)</td><td></td><td></td><td>620       ATLANTIC AVENUE</td><td class=vellipsis>&hellip;</td><td>Sedan</td><td></td><td></td><td></td><td></td></tr>\n",
       "    <tr><td class='row_index'>2</td><td>04/15/2021</td><td>16:15</td><td></td><td><span class=na>NA</span></td><td><span class=na>NA</span></td><td><span class=na>NA</span></td><td></td><td>HUTCHINSON RIVER PARKWAY</td><td></td><td></td><td class=vellipsis>&hellip;</td><td>Station Wagon/Sport Utility Vehicle</td><td></td><td></td><td></td><td></td></tr>\n",
       "    <tr><td class='row_index'>3</td><td>04/13/2021</td><td>16:00</td><td>BROOKLYN</td><td>11222</td><td><span class=na>NA</span></td><td><span class=na>NA</span></td><td></td><td>VANDERVORT AVENUE</td><td>ANTHONY STREET</td><td></td><td class=vellipsis>&hellip;</td><td>Sedan</td><td></td><td></td><td></td><td></td></tr>\n",
       "    <tr><td class='row_index'>4</td><td>04/12/2021</td><td>8:25</td><td></td><td><span class=na>NA</span></td><td>0</td><td>0</td><td>(0.0, 0.0)</td><td>EDSON AVENUE</td><td></td><td></td><td class=vellipsis>&hellip;</td><td>Station Wagon/Sport Utility Vehicle</td><td>Sedan</td><td></td><td></td><td></td></tr>\n",
       "    <tr><td class='row_index'>5</td><td>04/13/2021</td><td>17:11</td><td></td><td><span class=na>NA</span></td><td><span class=na>NA</span></td><td><span class=na>NA</span></td><td></td><td>VERRAZANO BRIDGE UPPER</td><td></td><td></td><td class=vellipsis>&hellip;</td><td>Sedan</td><td>Box Truck</td><td></td><td></td><td></td></tr>\n",
       "    <tr><td class='row_index'>6</td><td>04/13/2021</td><td>17:30</td><td>QUEENS</td><td>11106</td><td><span class=na>NA</span></td><td><span class=na>NA</span></td><td></td><td>33 st</td><td>31ave</td><td></td><td class=vellipsis>&hellip;</td><td>Sedan</td><td>Sedan</td><td></td><td></td><td></td></tr>\n",
       "    <tr><td class='row_index'>7</td><td>04/16/2021</td><td>23:30</td><td></td><td><span class=na>NA</span></td><td><span class=na>NA</span></td><td><span class=na>NA</span></td><td></td><td>SHORE PARKWAY</td><td></td><td></td><td class=vellipsis>&hellip;</td><td>Sedan</td><td></td><td></td><td></td><td></td></tr>\n",
       "    <tr><td class='row_index'>8</td><td>04/11/2021</td><td>17:00</td><td></td><td><span class=na>NA</span></td><td><span class=na>NA</span></td><td><span class=na>NA</span></td><td></td><td>GOWANUS RAMP</td><td></td><td></td><td class=vellipsis>&hellip;</td><td>Sedan</td><td>Sedan</td><td></td><td></td><td></td></tr>\n",
       "    <tr><td class='row_index'>9</td><td>04/16/2021</td><td>21:15</td><td></td><td><span class=na>NA</span></td><td><span class=na>NA</span></td><td><span class=na>NA</span></td><td></td><td>BRONX RIVER PARKWAY RAMP</td><td></td><td></td><td class=vellipsis>&hellip;</td><td>Station Wagon/Sport Utility Vehicle</td><td>Sedan</td><td></td><td></td><td></td></tr>\n",
       "  </tbody>\n",
       "  </table>\n",
       "  <div class='footer'>\n",
       "    <div class='frame_dimensions'>10 rows &times; 29 columns</div>\n",
       "  </div>\n",
       "</div>\n"
      ],
      "text/plain": [
       "<Frame#12d7997b0 10x29>"
      ]
     },
     "metadata": {},
     "execution_count": 27
    }
   ],
   "metadata": {}
  },
  {
   "cell_type": "markdown",
   "source": [
    "From the above top 10 records we can notice a few data quality issues. There is a LOT of missing data!! \n",
    "- A Burough is not always \n",
    "\n",
    "data[:, dt.count(), by(\"a\")]"
   ],
   "metadata": {}
  },
  {
   "cell_type": "markdown",
   "source": [
    "Datatable loaded the data in 1.1 seconds - that was easy, if we can fit the entire dataset in "
   ],
   "metadata": {}
  },
  {
   "cell_type": "code",
   "execution_count": 11,
   "source": [
    "import json\n",
    "\n",
    "with open(\"/Users/jordancarson/Projects/JPM/data-engineering-nyc/secret.json\") as f:\n",
    "    data = json.load(f)\n",
    "print(type(data[0]))\n",
    "# json.loads(\"/Users/jordancarson/Projects/JPM/data-engineering-nyc/aws-secret-config.json\")"
   ],
   "outputs": [
    {
     "output_type": "stream",
     "name": "stdout",
     "text": [
      "<class 'dict'>\n"
     ]
    }
   ],
   "metadata": {}
  },
  {
   "cell_type": "markdown",
   "source": [
    "Things to note:\n",
    "\n",
    "There are 565K accidents with no borough information.\n",
    "\n"
   ],
   "metadata": {}
  }
 ],
 "metadata": {
  "orig_nbformat": 4,
  "language_info": {
   "name": "python",
   "version": "3.9.5",
   "mimetype": "text/x-python",
   "codemirror_mode": {
    "name": "ipython",
    "version": 3
   },
   "pygments_lexer": "ipython3",
   "nbconvert_exporter": "python",
   "file_extension": ".py"
  },
  "kernelspec": {
   "name": "python3",
   "display_name": "Python 3.9.5 64-bit ('3.9.5': pyenv)"
  },
  "interpreter": {
   "hash": "fdd338dfa850261f035b26e14a7286b8675656f858c7969cf6cbcb21f8762763"
  }
 },
 "nbformat": 4,
 "nbformat_minor": 2
}